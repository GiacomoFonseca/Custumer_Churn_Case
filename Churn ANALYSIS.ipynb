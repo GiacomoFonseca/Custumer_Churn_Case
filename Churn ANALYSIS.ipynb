{
 "cells": [
  {
   "cell_type": "code",
   "execution_count": 2,
   "metadata": {},
   "outputs": [
    {
     "name": "stdout",
     "output_type": "stream",
     "text": [
      "Populating the interactive namespace from numpy and matplotlib\n"
     ]
    }
   ],
   "source": [
    "import pandas as pd\n",
    "import numpy as np\n",
    "import matplotlib.pyplot as plt\n",
    "%pylab inline\n",
    "import seaborn as sb\n",
    "import warnings\n",
    "warnings.filterwarnings(\"ignore\")"
   ]
  },
  {
   "cell_type": "markdown",
   "metadata": {},
   "source": [
    "## Import Training Output DF and Inspect"
   ]
  },
  {
   "cell_type": "code",
   "execution_count": 8,
   "metadata": {},
   "outputs": [
    {
     "data": {
      "text/html": [
       "<div>\n",
       "<style scoped>\n",
       "    .dataframe tbody tr th:only-of-type {\n",
       "        vertical-align: middle;\n",
       "    }\n",
       "\n",
       "    .dataframe tbody tr th {\n",
       "        vertical-align: top;\n",
       "    }\n",
       "\n",
       "    .dataframe thead th {\n",
       "        text-align: right;\n",
       "    }\n",
       "</style>\n",
       "<table border=\"1\" class=\"dataframe\">\n",
       "  <thead>\n",
       "    <tr style=\"text-align: right;\">\n",
       "      <th></th>\n",
       "      <th>contract_id</th>\n",
       "      <th>has_churned_over_next_3m</th>\n",
       "    </tr>\n",
       "  </thead>\n",
       "  <tbody>\n",
       "    <tr>\n",
       "      <th>0</th>\n",
       "      <td>6975aab29f35173b43eae4f595b747c7</td>\n",
       "      <td>0</td>\n",
       "    </tr>\n",
       "    <tr>\n",
       "      <th>1</th>\n",
       "      <td>8073016b742f47cf4c76cc41dc410122</td>\n",
       "      <td>1</td>\n",
       "    </tr>\n",
       "    <tr>\n",
       "      <th>2</th>\n",
       "      <td>227c0e6b15256a1d3d3460e15c24ba60</td>\n",
       "      <td>0</td>\n",
       "    </tr>\n",
       "    <tr>\n",
       "      <th>3</th>\n",
       "      <td>e1ea0597bbad7bfd95adf1c7103bfda1</td>\n",
       "      <td>0</td>\n",
       "    </tr>\n",
       "    <tr>\n",
       "      <th>4</th>\n",
       "      <td>a2e017f297f2557a7b1cf4a92bc993e9</td>\n",
       "      <td>0</td>\n",
       "    </tr>\n",
       "  </tbody>\n",
       "</table>\n",
       "</div>"
      ],
      "text/plain": [
       "                        contract_id  has_churned_over_next_3m\n",
       "0  6975aab29f35173b43eae4f595b747c7                         0\n",
       "1  8073016b742f47cf4c76cc41dc410122                         1\n",
       "2  227c0e6b15256a1d3d3460e15c24ba60                         0\n",
       "3  e1ea0597bbad7bfd95adf1c7103bfda1                         0\n",
       "4  a2e017f297f2557a7b1cf4a92bc993e9                         0"
      ]
     },
     "execution_count": 8,
     "metadata": {},
     "output_type": "execute_result"
    }
   ],
   "source": [
    "TrainOut = pd.read_csv('Churn_training_output.csv')\n",
    "TrainOut.head()"
   ]
  },
  {
   "cell_type": "code",
   "execution_count": 9,
   "metadata": {},
   "outputs": [
    {
     "data": {
      "text/html": [
       "<div>\n",
       "<style scoped>\n",
       "    .dataframe tbody tr th:only-of-type {\n",
       "        vertical-align: middle;\n",
       "    }\n",
       "\n",
       "    .dataframe tbody tr th {\n",
       "        vertical-align: top;\n",
       "    }\n",
       "\n",
       "    .dataframe thead th {\n",
       "        text-align: right;\n",
       "    }\n",
       "</style>\n",
       "<table border=\"1\" class=\"dataframe\">\n",
       "  <thead>\n",
       "    <tr style=\"text-align: right;\">\n",
       "      <th></th>\n",
       "      <th>contract_id</th>\n",
       "      <th>Churning</th>\n",
       "    </tr>\n",
       "  </thead>\n",
       "  <tbody>\n",
       "    <tr>\n",
       "      <th>0</th>\n",
       "      <td>6975aab29f35173b43eae4f595b747c7</td>\n",
       "      <td>0</td>\n",
       "    </tr>\n",
       "    <tr>\n",
       "      <th>1</th>\n",
       "      <td>8073016b742f47cf4c76cc41dc410122</td>\n",
       "      <td>1</td>\n",
       "    </tr>\n",
       "    <tr>\n",
       "      <th>2</th>\n",
       "      <td>227c0e6b15256a1d3d3460e15c24ba60</td>\n",
       "      <td>0</td>\n",
       "    </tr>\n",
       "    <tr>\n",
       "      <th>3</th>\n",
       "      <td>e1ea0597bbad7bfd95adf1c7103bfda1</td>\n",
       "      <td>0</td>\n",
       "    </tr>\n",
       "    <tr>\n",
       "      <th>4</th>\n",
       "      <td>a2e017f297f2557a7b1cf4a92bc993e9</td>\n",
       "      <td>0</td>\n",
       "    </tr>\n",
       "  </tbody>\n",
       "</table>\n",
       "</div>"
      ],
      "text/plain": [
       "                        contract_id  Churning\n",
       "0  6975aab29f35173b43eae4f595b747c7         0\n",
       "1  8073016b742f47cf4c76cc41dc410122         1\n",
       "2  227c0e6b15256a1d3d3460e15c24ba60         0\n",
       "3  e1ea0597bbad7bfd95adf1c7103bfda1         0\n",
       "4  a2e017f297f2557a7b1cf4a92bc993e9         0"
      ]
     },
     "execution_count": 9,
     "metadata": {},
     "output_type": "execute_result"
    }
   ],
   "source": [
    "#Giving a shorter name to second column\n",
    "TrainOut.rename(columns = {'has_churned_over_next_3m':'Churning'}, inplace = True)\n",
    "TrainOut.head()"
   ]
  },
  {
   "cell_type": "code",
   "execution_count": 10,
   "metadata": {},
   "outputs": [
    {
     "data": {
      "text/plain": [
       "contract_id     object\n",
       "Churning       float64\n",
       "dtype: object"
      ]
     },
     "execution_count": 10,
     "metadata": {},
     "output_type": "execute_result"
    }
   ],
   "source": [
    "#Changing datatype to float\n",
    "TrainOut['Churning']=TrainOut['Churning'].astype(float)\n",
    "TrainOut.dtypes"
   ]
  },
  {
   "cell_type": "code",
   "execution_count": 11,
   "metadata": {},
   "outputs": [
    {
     "data": {
      "text/plain": [
       "(16096, 2)"
      ]
     },
     "execution_count": 11,
     "metadata": {},
     "output_type": "execute_result"
    }
   ],
   "source": [
    "TrainOut.shape"
   ]
  },
  {
   "cell_type": "code",
   "execution_count": 12,
   "metadata": {},
   "outputs": [
    {
     "data": {
      "text/plain": [
       "0"
      ]
     },
     "execution_count": 12,
     "metadata": {},
     "output_type": "execute_result"
    }
   ],
   "source": [
    "#Check for null values\n",
    "len(TrainOut[TrainOut.isnull().T.any()])"
   ]
  },
  {
   "cell_type": "code",
   "execution_count": 13,
   "metadata": {},
   "outputs": [
    {
     "data": {
      "text/plain": [
       "0"
      ]
     },
     "execution_count": 13,
     "metadata": {},
     "output_type": "execute_result"
    }
   ],
   "source": [
    "#Checking Churning column consistency\n",
    "len(TrainOut[(TrainOut['Churning']!=0)&(TrainOut['Churning']!=1)])"
   ]
  },
  {
   "cell_type": "code",
   "execution_count": 14,
   "metadata": {},
   "outputs": [
    {
     "name": "stdout",
     "output_type": "stream",
     "text": [
      "Number of customers who churned 1595\n",
      "Number of customers who did not churn 14501\n"
     ]
    }
   ],
   "source": [
    "#Check ratio between Churn and No_Churn\n",
    "print('Number of customers who churned', len(TrainOut[(TrainOut['Churning']==1)]))\n",
    "print('Number of customers who did not churn', len(TrainOut[(TrainOut['Churning']==0)]))"
   ]
  },
  {
   "cell_type": "code",
   "execution_count": 15,
   "metadata": {},
   "outputs": [
    {
     "data": {
      "image/png": "[encoded data removed]",
      "text/plain": [
       "<Figure size 432x288 with 1 Axes>"
      ]
     },
     "metadata": {},
     "output_type": "display_data"
    }
   ],
   "source": [
    "#PIE CHART TO SHOW CHURN AND NO CHURN PERCENTAGES\n",
    "TrainOut1 = TrainOut.groupby(['Churning']).count().contract_id.values.tolist()\n",
    "labels = ['No Churn', 'Churn']\n",
    "\n",
    "fig1, ax1 = plt.subplots()\n",
    "explode_val = (0, 0.2)\n",
    "ax1.pie(TrainOut1, explode = explode_val, labels=labels, shadow=True, autopct='%1.1f%%',textprops={'fontsize': 14})\n",
    "ax1.axis('equal');\n",
    "ax1.set_title('Costumers churn in the last 3 months',fontsize=14);"
   ]
  },
  {
   "cell_type": "markdown",
   "metadata": {},
   "source": [
    "## Import Training Historical DF and Inspect"
   ]
  },
  {
   "cell_type": "code",
   "execution_count": 16,
   "metadata": {},
   "outputs": [
    {
     "data": {
      "text/html": [
       "<div>\n",
       "<style scoped>\n",
       "    .dataframe tbody tr th:only-of-type {\n",
       "        vertical-align: middle;\n",
       "    }\n",
       "\n",
       "    .dataframe tbody tr th {\n",
       "        vertical-align: top;\n",
       "    }\n",
       "\n",
       "    .dataframe thead th {\n",
       "        text-align: right;\n",
       "    }\n",
       "</style>\n",
       "<table border=\"1\" class=\"dataframe\">\n",
       "  <thead>\n",
       "    <tr style=\"text-align: right;\">\n",
       "      <th></th>\n",
       "      <th>contract_id</th>\n",
       "      <th>reference_date</th>\n",
       "      <th>price_energy_1st_period</th>\n",
       "      <th>price_energy_2nd_period</th>\n",
       "      <th>price_energy_3rd_period</th>\n",
       "      <th>price_power_1st_period</th>\n",
       "      <th>price_power_2nd_period</th>\n",
       "      <th>price_power_3rd_period</th>\n",
       "    </tr>\n",
       "  </thead>\n",
       "  <tbody>\n",
       "    <tr>\n",
       "      <th>0</th>\n",
       "      <td>cd7ad4a23c39fd588bf326333786300c</td>\n",
       "      <td>2015-02-01</td>\n",
       "      <td>0.136157</td>\n",
       "      <td>0.0</td>\n",
       "      <td>0.0</td>\n",
       "      <td>39.926856</td>\n",
       "      <td>0.0</td>\n",
       "      <td>0.0</td>\n",
       "    </tr>\n",
       "    <tr>\n",
       "      <th>1</th>\n",
       "      <td>73c63df734c0948948b61dcab3153dce</td>\n",
       "      <td>2015-06-01</td>\n",
       "      <td>0.134560</td>\n",
       "      <td>0.0</td>\n",
       "      <td>0.0</td>\n",
       "      <td>39.926855</td>\n",
       "      <td>0.0</td>\n",
       "      <td>0.0</td>\n",
       "    </tr>\n",
       "  </tbody>\n",
       "</table>\n",
       "</div>"
      ],
      "text/plain": [
       "                        contract_id reference_date  price_energy_1st_period  \\\n",
       "0  cd7ad4a23c39fd588bf326333786300c     2015-02-01                 0.136157   \n",
       "1  73c63df734c0948948b61dcab3153dce     2015-06-01                 0.134560   \n",
       "\n",
       "   price_energy_2nd_period  price_energy_3rd_period  price_power_1st_period  \\\n",
       "0                      0.0                      0.0               39.926856   \n",
       "1                      0.0                      0.0               39.926855   \n",
       "\n",
       "   price_power_2nd_period  price_power_3rd_period  \n",
       "0                     0.0                     0.0  \n",
       "1                     0.0                     0.0  "
      ]
     },
     "execution_count": 16,
     "metadata": {},
     "output_type": "execute_result"
    }
   ],
   "source": [
    "TrainHist = pd.read_csv('Churn_training_hist_data.csv')\n",
    "TrainHist.head(2)"
   ]
  },
  {
   "cell_type": "code",
   "execution_count": 17,
   "metadata": {},
   "outputs": [
    {
     "data": {
      "text/plain": [
       "(193002, 8)"
      ]
     },
     "execution_count": 17,
     "metadata": {},
     "output_type": "execute_result"
    }
   ],
   "source": [
    "TrainHist.shape"
   ]
  },
  {
   "cell_type": "code",
   "execution_count": 18,
   "metadata": {},
   "outputs": [
    {
     "data": {
      "text/plain": [
       "1359"
      ]
     },
     "execution_count": 18,
     "metadata": {},
     "output_type": "execute_result"
    }
   ],
   "source": [
    "#Check how many rows have at least one NaN value\n",
    "len(TrainHist[TrainHist.isnull().T.any()])"
   ]
  },
  {
   "cell_type": "code",
   "execution_count": 19,
   "metadata": {},
   "outputs": [
    {
     "data": {
      "text/plain": [
       "0"
      ]
     },
     "execution_count": 19,
     "metadata": {},
     "output_type": "execute_result"
    }
   ],
   "source": [
    "#Replacing NaN with zeros for later purposes\n",
    "TrainHist = TrainHist.fillna(0)\n",
    "len(TrainHist[TrainHist.isnull().T.any()])"
   ]
  },
  {
   "cell_type": "code",
   "execution_count": 20,
   "metadata": {},
   "outputs": [
    {
     "data": {
      "text/plain": [
       "contract_id                 object\n",
       "reference_date              object\n",
       "price_energy_1st_period    float64\n",
       "price_energy_2nd_period    float64\n",
       "price_energy_3rd_period    float64\n",
       "price_power_1st_period     float64\n",
       "price_power_2nd_period     float64\n",
       "price_power_3rd_period     float64\n",
       "dtype: object"
      ]
     },
     "execution_count": 20,
     "metadata": {},
     "output_type": "execute_result"
    }
   ],
   "source": [
    "TrainHist.dtypes"
   ]
  },
  {
   "cell_type": "markdown",
   "metadata": {},
   "source": [
    "### Correlation between Churning and average energy and power prices"
   ]
  },
  {
   "cell_type": "code",
   "execution_count": 21,
   "metadata": {},
   "outputs": [
    {
     "data": {
      "text/html": [
       "<div>\n",
       "<style scoped>\n",
       "    .dataframe tbody tr th:only-of-type {\n",
       "        vertical-align: middle;\n",
       "    }\n",
       "\n",
       "    .dataframe tbody tr th {\n",
       "        vertical-align: top;\n",
       "    }\n",
       "\n",
       "    .dataframe thead th {\n",
       "        text-align: right;\n",
       "    }\n",
       "</style>\n",
       "<table border=\"1\" class=\"dataframe\">\n",
       "  <thead>\n",
       "    <tr style=\"text-align: right;\">\n",
       "      <th></th>\n",
       "      <th>contract_id</th>\n",
       "      <th>Churning</th>\n",
       "      <th>price_energy_1st_period</th>\n",
       "      <th>price_energy_2nd_period</th>\n",
       "      <th>price_energy_3rd_period</th>\n",
       "      <th>price_power_1st_period</th>\n",
       "      <th>price_power_2nd_period</th>\n",
       "      <th>price_power_3rd_period</th>\n",
       "    </tr>\n",
       "  </thead>\n",
       "  <tbody>\n",
       "    <tr>\n",
       "      <th>0</th>\n",
       "      <td>6975aab29f35173b43eae4f595b747c7</td>\n",
       "      <td>0.0</td>\n",
       "      <td>1.328094</td>\n",
       "      <td>0.968983</td>\n",
       "      <td>1.104592</td>\n",
       "      <td>439.652769</td>\n",
       "      <td>221.001172</td>\n",
       "      <td>147.798618</td>\n",
       "    </tr>\n",
       "    <tr>\n",
       "      <th>1</th>\n",
       "      <td>8073016b742f47cf4c76cc41dc410122</td>\n",
       "      <td>1.0</td>\n",
       "      <td>1.619746</td>\n",
       "      <td>0.000000</td>\n",
       "      <td>0.000000</td>\n",
       "      <td>479.603318</td>\n",
       "      <td>0.000000</td>\n",
       "      <td>0.000000</td>\n",
       "    </tr>\n",
       "    <tr>\n",
       "      <th>2</th>\n",
       "      <td>227c0e6b15256a1d3d3460e15c24ba60</td>\n",
       "      <td>0.0</td>\n",
       "      <td>1.630576</td>\n",
       "      <td>1.187414</td>\n",
       "      <td>1.345940</td>\n",
       "      <td>442.209209</td>\n",
       "      <td>223.339939</td>\n",
       "      <td>150.243545</td>\n",
       "    </tr>\n",
       "  </tbody>\n",
       "</table>\n",
       "</div>"
      ],
      "text/plain": [
       "                        contract_id  Churning  price_energy_1st_period  \\\n",
       "0  6975aab29f35173b43eae4f595b747c7       0.0                 1.328094   \n",
       "1  8073016b742f47cf4c76cc41dc410122       1.0                 1.619746   \n",
       "2  227c0e6b15256a1d3d3460e15c24ba60       0.0                 1.630576   \n",
       "\n",
       "   price_energy_2nd_period  price_energy_3rd_period  price_power_1st_period  \\\n",
       "0                 0.968983                 1.104592              439.652769   \n",
       "1                 0.000000                 0.000000              479.603318   \n",
       "2                 1.187414                 1.345940              442.209209   \n",
       "\n",
       "   price_power_2nd_period  price_power_3rd_period  \n",
       "0              221.001172              147.798618  \n",
       "1                0.000000                0.000000  \n",
       "2              223.339939              150.243545  "
      ]
     },
     "execution_count": 21,
     "metadata": {},
     "output_type": "execute_result"
    }
   ],
   "source": [
    "#SUMMING THE HISTORIC DATAFRAME TO FIND THE ENERGY AND POWER PRICES IN THE WHOLE YEAR 2015 AND JOINING THE HISTORIC AND CHURNING DATAFRAMES\n",
    "TrainHistSum= TrainHist.groupby('contract_id').sum() #Now it has the same length as the churning dataframe\n",
    "THO_join = TrainOut.merge(TrainHistSum,how='inner',left_on='contract_id',right_on='contract_id')\n",
    "THO_join.head(3)"
   ]
  },
  {
   "cell_type": "code",
   "execution_count": 22,
   "metadata": {},
   "outputs": [
    {
     "data": {
      "text/plain": [
       "16096"
      ]
     },
     "execution_count": 22,
     "metadata": {},
     "output_type": "execute_result"
    }
   ],
   "source": [
    "len(THO_join)"
   ]
  },
  {
   "cell_type": "code",
   "execution_count": 23,
   "metadata": {},
   "outputs": [
    {
     "data": {
      "text/html": [
       "<div>\n",
       "<style scoped>\n",
       "    .dataframe tbody tr th:only-of-type {\n",
       "        vertical-align: middle;\n",
       "    }\n",
       "\n",
       "    .dataframe tbody tr th {\n",
       "        vertical-align: top;\n",
       "    }\n",
       "\n",
       "    .dataframe thead th {\n",
       "        text-align: right;\n",
       "    }\n",
       "</style>\n",
       "<table border=\"1\" class=\"dataframe\">\n",
       "  <thead>\n",
       "    <tr style=\"text-align: right;\">\n",
       "      <th></th>\n",
       "      <th>contract_id</th>\n",
       "      <th>Churning</th>\n",
       "      <th>price_energy_1st_period</th>\n",
       "      <th>price_energy_2nd_period</th>\n",
       "      <th>price_energy_3rd_period</th>\n",
       "      <th>price_power_1st_period</th>\n",
       "      <th>price_power_2nd_period</th>\n",
       "      <th>price_power_3rd_period</th>\n",
       "      <th>AVG_price_energy</th>\n",
       "      <th>AVG_price_power</th>\n",
       "    </tr>\n",
       "  </thead>\n",
       "  <tbody>\n",
       "    <tr>\n",
       "      <th>0</th>\n",
       "      <td>6975aab29f35173b43eae4f595b747c7</td>\n",
       "      <td>0.0</td>\n",
       "      <td>1.328094</td>\n",
       "      <td>0.968983</td>\n",
       "      <td>1.104592</td>\n",
       "      <td>439.652769</td>\n",
       "      <td>221.001172</td>\n",
       "      <td>147.798618</td>\n",
       "      <td>1.133890</td>\n",
       "      <td>269.484186</td>\n",
       "    </tr>\n",
       "    <tr>\n",
       "      <th>1</th>\n",
       "      <td>8073016b742f47cf4c76cc41dc410122</td>\n",
       "      <td>1.0</td>\n",
       "      <td>1.619746</td>\n",
       "      <td>0.000000</td>\n",
       "      <td>0.000000</td>\n",
       "      <td>479.603318</td>\n",
       "      <td>0.000000</td>\n",
       "      <td>0.000000</td>\n",
       "      <td>0.539915</td>\n",
       "      <td>159.867773</td>\n",
       "    </tr>\n",
       "  </tbody>\n",
       "</table>\n",
       "</div>"
      ],
      "text/plain": [
       "                        contract_id  Churning  price_energy_1st_period  \\\n",
       "0  6975aab29f35173b43eae4f595b747c7       0.0                 1.328094   \n",
       "1  8073016b742f47cf4c76cc41dc410122       1.0                 1.619746   \n",
       "\n",
       "   price_energy_2nd_period  price_energy_3rd_period  price_power_1st_period  \\\n",
       "0                 0.968983                 1.104592              439.652769   \n",
       "1                 0.000000                 0.000000              479.603318   \n",
       "\n",
       "   price_power_2nd_period  price_power_3rd_period  AVG_price_energy  \\\n",
       "0              221.001172              147.798618          1.133890   \n",
       "1                0.000000                0.000000          0.539915   \n",
       "\n",
       "   AVG_price_power  \n",
       "0       269.484186  \n",
       "1       159.867773  "
      ]
     },
     "execution_count": 23,
     "metadata": {},
     "output_type": "execute_result"
    }
   ],
   "source": [
    "# CREATE 2 NEW COLUMNS WITH THE AVERAGES OF THE 3 PERIODS ENERGY AND POWER PRICES PER EACH CONTRACT\n",
    "THO_join['AVG_price_energy']=THO_join.iloc[:,[2,3,4]].mean(axis=1)\n",
    "THO_join['AVG_price_power']=THO_join.iloc[:,[5,6,7]].mean(axis=1)\n",
    "THO_join.head(2)"
   ]
  },
  {
   "cell_type": "code",
   "execution_count": 24,
   "metadata": {},
   "outputs": [
    {
     "data": {
      "text/plain": [
       "0"
      ]
     },
     "execution_count": 24,
     "metadata": {},
     "output_type": "execute_result"
    }
   ],
   "source": [
    "# CREATE 2 SUB-DATAFRAMES TO SEPARATE CHURN AND NO-CHURN CASES\n",
    "THO_join_Churn = THO_join[THO_join['Churning']==1]\n",
    "THO_join_NoChurn = THO_join[THO_join['Churning']==0]\n",
    "len(THO_join[(THO_join['Churning']!=1)&(THO_join['Churning']!=0)]) #check consistency again"
   ]
  },
  {
   "cell_type": "code",
   "execution_count": 25,
   "metadata": {},
   "outputs": [
    {
     "name": "stdout",
     "output_type": "stream",
     "text": [
      "Number of Customers who churned 1595\n",
      "Number of Customers who did not churn 14501\n"
     ]
    }
   ],
   "source": [
    "#Check again ratio between Churn and No_Churn\n",
    "print('Number of Customers who churned', len(THO_join_Churn))\n",
    "print('Number of Customers who did not churn', len(THO_join_NoChurn))"
   ]
  },
  {
   "cell_type": "code",
   "execution_count": 26,
   "metadata": {},
   "outputs": [
    {
     "data": {
      "image/png": "[encoded data removed]",
      "text/plain": [
       "<Figure size 1296x432 with 2 Axes>"
      ]
     },
     "metadata": {},
     "output_type": "display_data"
    }
   ],
   "source": [
    "# CALCULATE THE MEAN ENERGY AND POWER PRICES FROM THE AVG COLUMNS, AND PLOT \n",
    "Mean_price_energy_Churn = THO_join_Churn['AVG_price_energy'].mean()\n",
    "Mean_price_power_Churn = THO_join_Churn['AVG_price_power'].mean()\n",
    "\n",
    "Mean_price_energy_NoChurn = THO_join_NoChurn['AVG_price_energy'].mean()\n",
    "Mean_price_power_NoChurn = THO_join_NoChurn['AVG_price_power'].mean()\n",
    "\n",
    "fig, (ax1, ax2) = plt.subplots(1,2, figsize=(18, 6))\n",
    "plt.subplots_adjust(wspace=0.2)\n",
    "\n",
    "a = ['Churn', 'No_Churn']\n",
    "b = [Mean_price_energy_Churn, Mean_price_energy_NoChurn]\n",
    "c = [Mean_price_power_Churn, Mean_price_power_NoChurn]\n",
    "width = 0.5\n",
    "ax1.barh(a, b, width, color=[\"darkorange\",\"blue\"])\n",
    "ax2.barh(a, c, width, color=[\"darkorange\",\"blue\"])\n",
    "ax1.set_xlabel('Energy price',fontsize=14)\n",
    "ax1.set_yticklabels(a,fontsize=13)\n",
    "ax2.set_xlabel('Power price',fontsize=14)\n",
    "ax2.set_yticklabels(a,fontsize=13)\n",
    "ax1.set_title('Mean energy price difference in 2015',fontweight='bold')\n",
    "ax2.set_title('Mean power price difference in 2015',fontweight='bold')\n",
    "for i, v in enumerate(b):\n",
    "    ax1.text(v-.1, i, str(round(v,2)), color='white', fontweight='bold',fontsize=14)\n",
    "for i, v in enumerate(c):\n",
    "    ax2.text(v-35, i, str(round(v,2)), color='white', fontweight='bold',fontsize=14);"
   ]
  },
  {
   "cell_type": "markdown",
   "metadata": {},
   "source": [
    "## Import Training DF and Inspect"
   ]
  },
  {
   "cell_type": "code",
   "execution_count": 27,
   "metadata": {},
   "outputs": [
    {
     "data": {
      "text/html": [
       "<div>\n",
       "<style scoped>\n",
       "    .dataframe tbody tr th:only-of-type {\n",
       "        vertical-align: middle;\n",
       "    }\n",
       "\n",
       "    .dataframe tbody tr th {\n",
       "        vertical-align: top;\n",
       "    }\n",
       "\n",
       "    .dataframe thead th {\n",
       "        text-align: right;\n",
       "    }\n",
       "</style>\n",
       "<table border=\"1\" class=\"dataframe\">\n",
       "  <thead>\n",
       "    <tr style=\"text-align: right;\">\n",
       "      <th></th>\n",
       "      <th>contract_id</th>\n",
       "      <th>company_category</th>\n",
       "      <th>campaing_code_elect</th>\n",
       "      <th>channel</th>\n",
       "      <th>elect_cons_at_12m</th>\n",
       "      <th>gas_cons_at_12m</th>\n",
       "      <th>elect_cons_last_month</th>\n",
       "      <th>contract_activation_date</th>\n",
       "      <th>contract_end_date</th>\n",
       "      <th>contract_fist_act_date</th>\n",
       "      <th>...</th>\n",
       "      <th>fcst_price_power_period_1</th>\n",
       "      <th>client_got_gas</th>\n",
       "      <th>current_paid_consumption</th>\n",
       "      <th>gross_margin_power_elect</th>\n",
       "      <th>net_margin_power_elect</th>\n",
       "      <th>number_active_products</th>\n",
       "      <th>total_net_margin</th>\n",
       "      <th>customer_antiquity_in_years</th>\n",
       "      <th>code_elect_campaign_first_subs</th>\n",
       "      <th>subscribed_power</th>\n",
       "    </tr>\n",
       "  </thead>\n",
       "  <tbody>\n",
       "    <tr>\n",
       "      <th>16091</th>\n",
       "      <td>b4c9d3087133ee1619884ea047b57fe5</td>\n",
       "      <td>NaN</td>\n",
       "      <td>NaN</td>\n",
       "      <td>lmkebamcaaclubfxadlmueccxoimlema</td>\n",
       "      <td>729575</td>\n",
       "      <td>0</td>\n",
       "      <td>33991</td>\n",
       "      <td>2013-01-31</td>\n",
       "      <td>2016-05-14</td>\n",
       "      <td>NaN</td>\n",
       "      <td>...</td>\n",
       "      <td>27.257522</td>\n",
       "      <td>f</td>\n",
       "      <td>884.608104</td>\n",
       "      <td>-10.167780</td>\n",
       "      <td>-9.193837</td>\n",
       "      <td>1</td>\n",
       "      <td>-1954.997357</td>\n",
       "      <td>3</td>\n",
       "      <td>lxidpiddsbxsbosboudacockeimpuepw</td>\n",
       "      <td>128.945761</td>\n",
       "    </tr>\n",
       "    <tr>\n",
       "      <th>16092</th>\n",
       "      <td>d997a45fc29f1c98891bcce4e25ba400</td>\n",
       "      <td>pmedwkpuckbppeoecxiccwxluwkxdkpe</td>\n",
       "      <td>NaN</td>\n",
       "      <td>foosdfpfkusacimwkcsosbicdxkicaua</td>\n",
       "      <td>6061</td>\n",
       "      <td>0</td>\n",
       "      <td>699</td>\n",
       "      <td>2011-08-09</td>\n",
       "      <td>2016-09-05</td>\n",
       "      <td>NaN</td>\n",
       "      <td>...</td>\n",
       "      <td>27.257522</td>\n",
       "      <td>f</td>\n",
       "      <td>63.572701</td>\n",
       "      <td>132.460985</td>\n",
       "      <td>119.772928</td>\n",
       "      <td>1</td>\n",
       "      <td>27.077663</td>\n",
       "      <td>4</td>\n",
       "      <td>lxidpiddsbxsbosboudacockeimpuepw</td>\n",
       "      <td>118.930556</td>\n",
       "    </tr>\n",
       "    <tr>\n",
       "      <th>16093</th>\n",
       "      <td>1f8e97229ae68386239e314c54e687e4</td>\n",
       "      <td>duukumowsmmdaaadwsdwwieefdmiebpm</td>\n",
       "      <td>NaN</td>\n",
       "      <td>foosdfpfkusacimwkcsosbicdxkicaua</td>\n",
       "      <td>17013</td>\n",
       "      <td>0</td>\n",
       "      <td>1107</td>\n",
       "      <td>2013-05-07</td>\n",
       "      <td>2016-05-07</td>\n",
       "      <td>NaN</td>\n",
       "      <td>...</td>\n",
       "      <td>29.744311</td>\n",
       "      <td>f</td>\n",
       "      <td>148.333993</td>\n",
       "      <td>35.680512</td>\n",
       "      <td>32.262778</td>\n",
       "      <td>1</td>\n",
       "      <td>81.099211</td>\n",
       "      <td>3</td>\n",
       "      <td>lxidpiddsbxsbosboudacockeimpuepw</td>\n",
       "      <td>17.351342</td>\n",
       "    </tr>\n",
       "    <tr>\n",
       "      <th>16094</th>\n",
       "      <td>b8b7039f339d0909d1216f4a9a07dd1c</td>\n",
       "      <td>NaN</td>\n",
       "      <td>NaN</td>\n",
       "      <td>foosdfpfkusacimwkcsosbicdxkicaua</td>\n",
       "      <td>46471</td>\n",
       "      <td>0</td>\n",
       "      <td>1949</td>\n",
       "      <td>2009-10-13</td>\n",
       "      <td>2016-10-13</td>\n",
       "      <td>2009-10-13</td>\n",
       "      <td>...</td>\n",
       "      <td>30.748175</td>\n",
       "      <td>f</td>\n",
       "      <td>0.000000</td>\n",
       "      <td>35.820435</td>\n",
       "      <td>32.389299</td>\n",
       "      <td>1</td>\n",
       "      <td>33.969709</td>\n",
       "      <td>6</td>\n",
       "      <td>lxidpiddsbxsbosboudacockeimpuepw</td>\n",
       "      <td>16.525088</td>\n",
       "    </tr>\n",
       "    <tr>\n",
       "      <th>16095</th>\n",
       "      <td>5844cbd329236f04d75b25d68a7ab279</td>\n",
       "      <td>uiouuawillpcssldoeemcddcpfseebsw</td>\n",
       "      <td>NaN</td>\n",
       "      <td>foosdfpfkusacimwkcsosbicdxkicaua</td>\n",
       "      <td>119112</td>\n",
       "      <td>0</td>\n",
       "      <td>2311</td>\n",
       "      <td>2012-10-24</td>\n",
       "      <td>2016-10-22</td>\n",
       "      <td>2012-10-24</td>\n",
       "      <td>...</td>\n",
       "      <td>27.257522</td>\n",
       "      <td>f</td>\n",
       "      <td>217.316399</td>\n",
       "      <td>18.221159</td>\n",
       "      <td>16.475807</td>\n",
       "      <td>1</td>\n",
       "      <td>217.349651</td>\n",
       "      <td>3</td>\n",
       "      <td>lxidpiddsbxsbosboudacockeimpuepw</td>\n",
       "      <td>43.816521</td>\n",
       "    </tr>\n",
       "  </tbody>\n",
       "</table>\n",
       "<p>5 rows × 32 columns</p>\n",
       "</div>"
      ],
      "text/plain": [
       "                            contract_id                  company_category  \\\n",
       "16091  b4c9d3087133ee1619884ea047b57fe5                               NaN   \n",
       "16092  d997a45fc29f1c98891bcce4e25ba400  pmedwkpuckbppeoecxiccwxluwkxdkpe   \n",
       "16093  1f8e97229ae68386239e314c54e687e4  duukumowsmmdaaadwsdwwieefdmiebpm   \n",
       "16094  b8b7039f339d0909d1216f4a9a07dd1c                               NaN   \n",
       "16095  5844cbd329236f04d75b25d68a7ab279  uiouuawillpcssldoeemcddcpfseebsw   \n",
       "\n",
       "       campaing_code_elect                           channel  \\\n",
       "16091                  NaN  lmkebamcaaclubfxadlmueccxoimlema   \n",
       "16092                  NaN  foosdfpfkusacimwkcsosbicdxkicaua   \n",
       "16093                  NaN  foosdfpfkusacimwkcsosbicdxkicaua   \n",
       "16094                  NaN  foosdfpfkusacimwkcsosbicdxkicaua   \n",
       "16095                  NaN  foosdfpfkusacimwkcsosbicdxkicaua   \n",
       "\n",
       "       elect_cons_at_12m  gas_cons_at_12m  elect_cons_last_month  \\\n",
       "16091             729575                0                  33991   \n",
       "16092               6061                0                    699   \n",
       "16093              17013                0                   1107   \n",
       "16094              46471                0                   1949   \n",
       "16095             119112                0                   2311   \n",
       "\n",
       "      contract_activation_date contract_end_date contract_fist_act_date  ...  \\\n",
       "16091               2013-01-31        2016-05-14                    NaN  ...   \n",
       "16092               2011-08-09        2016-09-05                    NaN  ...   \n",
       "16093               2013-05-07        2016-05-07                    NaN  ...   \n",
       "16094               2009-10-13        2016-10-13             2009-10-13  ...   \n",
       "16095               2012-10-24        2016-10-22             2012-10-24  ...   \n",
       "\n",
       "      fcst_price_power_period_1 client_got_gas  current_paid_consumption  \\\n",
       "16091                 27.257522              f                884.608104   \n",
       "16092                 27.257522              f                 63.572701   \n",
       "16093                 29.744311              f                148.333993   \n",
       "16094                 30.748175              f                  0.000000   \n",
       "16095                 27.257522              f                217.316399   \n",
       "\n",
       "       gross_margin_power_elect  net_margin_power_elect  \\\n",
       "16091                -10.167780               -9.193837   \n",
       "16092                132.460985              119.772928   \n",
       "16093                 35.680512               32.262778   \n",
       "16094                 35.820435               32.389299   \n",
       "16095                 18.221159               16.475807   \n",
       "\n",
       "       number_active_products  total_net_margin  customer_antiquity_in_years  \\\n",
       "16091                       1      -1954.997357                            3   \n",
       "16092                       1         27.077663                            4   \n",
       "16093                       1         81.099211                            3   \n",
       "16094                       1         33.969709                            6   \n",
       "16095                       1        217.349651                            3   \n",
       "\n",
       "         code_elect_campaign_first_subs  subscribed_power  \n",
       "16091  lxidpiddsbxsbosboudacockeimpuepw        128.945761  \n",
       "16092  lxidpiddsbxsbosboudacockeimpuepw        118.930556  \n",
       "16093  lxidpiddsbxsbosboudacockeimpuepw         17.351342  \n",
       "16094  lxidpiddsbxsbosboudacockeimpuepw         16.525088  \n",
       "16095  lxidpiddsbxsbosboudacockeimpuepw         43.816521  \n",
       "\n",
       "[5 rows x 32 columns]"
      ]
     },
     "execution_count": 27,
     "metadata": {},
     "output_type": "execute_result"
    }
   ],
   "source": [
    "Training = pd.read_csv('Churn_training_data.csv')\n",
    "Training.tail(5)"
   ]
  },
  {
   "cell_type": "code",
   "execution_count": 28,
   "metadata": {
    "collapsed": true
   },
   "outputs": [],
   "source": [
    "#Dropping empty and superflous columns\n",
    "Training = Training.drop(columns=['company_category','campaing_code_elect','channel','contract_fist_act_date'])"
   ]
  },
  {
   "cell_type": "code",
   "execution_count": 29,
   "metadata": {
    "collapsed": true
   },
   "outputs": [],
   "source": [
    "#Converting all numerical data into float\n",
    "Training[['elect_cons_at_12m','gas_cons_at_12m','elect_cons_last_month','number_active_products',\n",
    "          'customer_antiquity_in_years']] = Training[['elect_cons_at_12m','gas_cons_at_12m','elect_cons_last_month',\n",
    "                                                      'number_active_products','customer_antiquity_in_years']].astype(float)"
   ]
  },
  {
   "cell_type": "code",
   "execution_count": 30,
   "metadata": {},
   "outputs": [
    {
     "data": {
      "text/plain": [
       "contract_id                             object\n",
       "elect_cons_at_12m                      float64\n",
       "gas_cons_at_12m                        float64\n",
       "elect_cons_last_month                  float64\n",
       "contract_activation_date                object\n",
       "contract_end_date                       object\n",
       "contract_last_mod_date                  object\n",
       "contract_renewal_date                   object\n",
       "fcst_bill_baseline_elect_next_month    float64\n",
       "fcst_bill_baseline_elect_cal_year      float64\n",
       "fcst_bill_baseline_elect_12m           float64\n",
       "fcst_consumption_elect_next_month      float64\n",
       "fcst_consumption_elect_12m             float64\n",
       "fcst_consumption_elect_cal_year        float64\n",
       "fcst_current_discount                  float64\n",
       "fcst_bill_meter_rent_12m               float64\n",
       "fcst_price_period_1                    float64\n",
       "fcst_price_period_2                    float64\n",
       "fcst_price_power_period_1              float64\n",
       "client_got_gas                          object\n",
       "current_paid_consumption               float64\n",
       "gross_margin_power_elect               float64\n",
       "net_margin_power_elect                 float64\n",
       "number_active_products                 float64\n",
       "total_net_margin                       float64\n",
       "customer_antiquity_in_years            float64\n",
       "code_elect_campaign_first_subs          object\n",
       "subscribed_power                       float64\n",
       "dtype: object"
      ]
     },
     "execution_count": 30,
     "metadata": {},
     "output_type": "execute_result"
    }
   ],
   "source": [
    "Training.dtypes"
   ]
  },
  {
   "cell_type": "markdown",
   "metadata": {},
   "source": [
    "### Correlation between Churning and  gas service"
   ]
  },
  {
   "cell_type": "code",
   "execution_count": 31,
   "metadata": {
    "scrolled": true
   },
   "outputs": [
    {
     "data": {
      "text/html": [
       "<div>\n",
       "<style scoped>\n",
       "    .dataframe tbody tr th:only-of-type {\n",
       "        vertical-align: middle;\n",
       "    }\n",
       "\n",
       "    .dataframe tbody tr th {\n",
       "        vertical-align: top;\n",
       "    }\n",
       "\n",
       "    .dataframe thead th {\n",
       "        text-align: right;\n",
       "    }\n",
       "</style>\n",
       "<table border=\"1\" class=\"dataframe\">\n",
       "  <thead>\n",
       "    <tr style=\"text-align: right;\">\n",
       "      <th></th>\n",
       "      <th>contract_id</th>\n",
       "      <th>Churning</th>\n",
       "      <th>elect_cons_at_12m</th>\n",
       "      <th>gas_cons_at_12m</th>\n",
       "      <th>elect_cons_last_month</th>\n",
       "      <th>contract_activation_date</th>\n",
       "      <th>contract_end_date</th>\n",
       "      <th>contract_last_mod_date</th>\n",
       "      <th>contract_renewal_date</th>\n",
       "      <th>fcst_bill_baseline_elect_next_month</th>\n",
       "      <th>...</th>\n",
       "      <th>fcst_price_power_period_1</th>\n",
       "      <th>client_got_gas</th>\n",
       "      <th>current_paid_consumption</th>\n",
       "      <th>gross_margin_power_elect</th>\n",
       "      <th>net_margin_power_elect</th>\n",
       "      <th>number_active_products</th>\n",
       "      <th>total_net_margin</th>\n",
       "      <th>customer_antiquity_in_years</th>\n",
       "      <th>code_elect_campaign_first_subs</th>\n",
       "      <th>subscribed_power</th>\n",
       "    </tr>\n",
       "  </thead>\n",
       "  <tbody>\n",
       "    <tr>\n",
       "      <th>0</th>\n",
       "      <td>6975aab29f35173b43eae4f595b747c7</td>\n",
       "      <td>0.0</td>\n",
       "      <td>12067.0</td>\n",
       "      <td>8723.0</td>\n",
       "      <td>303.0</td>\n",
       "      <td>2009-08-21</td>\n",
       "      <td>2016-08-21</td>\n",
       "      <td>2015-07-10</td>\n",
       "      <td>2015-08-22</td>\n",
       "      <td>NaN</td>\n",
       "      <td>...</td>\n",
       "      <td>27.257522</td>\n",
       "      <td>t</td>\n",
       "      <td>27.027749</td>\n",
       "      <td>30.223492</td>\n",
       "      <td>27.328471</td>\n",
       "      <td>3.0</td>\n",
       "      <td>37.220019</td>\n",
       "      <td>6.0</td>\n",
       "      <td>kamkkxfxxuwbdslkwifmmcsiusiuosws</td>\n",
       "      <td>21.595285</td>\n",
       "    </tr>\n",
       "    <tr>\n",
       "      <th>1</th>\n",
       "      <td>8073016b742f47cf4c76cc41dc410122</td>\n",
       "      <td>1.0</td>\n",
       "      <td>3183.0</td>\n",
       "      <td>0.0</td>\n",
       "      <td>406.0</td>\n",
       "      <td>2011-12-19</td>\n",
       "      <td>2016-12-19</td>\n",
       "      <td>2015-11-01</td>\n",
       "      <td>2015-12-21</td>\n",
       "      <td>NaN</td>\n",
       "      <td>...</td>\n",
       "      <td>31.082797</td>\n",
       "      <td>f</td>\n",
       "      <td>54.699675</td>\n",
       "      <td>38.276871</td>\n",
       "      <td>34.610440</td>\n",
       "      <td>1.0</td>\n",
       "      <td>17.946074</td>\n",
       "      <td>4.0</td>\n",
       "      <td>lxidpiddsbxsbosboudacockeimpuepw</td>\n",
       "      <td>15.648757</td>\n",
       "    </tr>\n",
       "    <tr>\n",
       "      <th>2</th>\n",
       "      <td>227c0e6b15256a1d3d3460e15c24ba60</td>\n",
       "      <td>0.0</td>\n",
       "      <td>18464.0</td>\n",
       "      <td>26847.0</td>\n",
       "      <td>1534.0</td>\n",
       "      <td>2010-01-20</td>\n",
       "      <td>2016-06-04</td>\n",
       "      <td>2015-06-04</td>\n",
       "      <td>2015-01-22</td>\n",
       "      <td>NaN</td>\n",
       "      <td>...</td>\n",
       "      <td>27.592143</td>\n",
       "      <td>t</td>\n",
       "      <td>190.565716</td>\n",
       "      <td>73.755271</td>\n",
       "      <td>66.690466</td>\n",
       "      <td>3.0</td>\n",
       "      <td>57.147990</td>\n",
       "      <td>6.0</td>\n",
       "      <td>kamkkxfxxuwbdslkwifmmcsiusiuosws</td>\n",
       "      <td>21.595285</td>\n",
       "    </tr>\n",
       "    <tr>\n",
       "      <th>3</th>\n",
       "      <td>e1ea0597bbad7bfd95adf1c7103bfda1</td>\n",
       "      <td>0.0</td>\n",
       "      <td>17743.0</td>\n",
       "      <td>0.0</td>\n",
       "      <td>0.0</td>\n",
       "      <td>2012-03-12</td>\n",
       "      <td>2016-03-12</td>\n",
       "      <td>2012-03-12</td>\n",
       "      <td>2015-03-13</td>\n",
       "      <td>NaN</td>\n",
       "      <td>...</td>\n",
       "      <td>29.744311</td>\n",
       "      <td>f</td>\n",
       "      <td>0.000000</td>\n",
       "      <td>42.023714</td>\n",
       "      <td>37.998383</td>\n",
       "      <td>1.0</td>\n",
       "      <td>105.174300</td>\n",
       "      <td>4.0</td>\n",
       "      <td>lxidpiddsbxsbosboudacockeimpuepw</td>\n",
       "      <td>16.462493</td>\n",
       "    </tr>\n",
       "    <tr>\n",
       "      <th>4</th>\n",
       "      <td>a2e017f297f2557a7b1cf4a92bc993e9</td>\n",
       "      <td>0.0</td>\n",
       "      <td>42537.0</td>\n",
       "      <td>7606.0</td>\n",
       "      <td>3873.0</td>\n",
       "      <td>2012-07-12</td>\n",
       "      <td>2016-09-20</td>\n",
       "      <td>2013-09-20</td>\n",
       "      <td>2015-09-25</td>\n",
       "      <td>NaN</td>\n",
       "      <td>...</td>\n",
       "      <td>27.257522</td>\n",
       "      <td>t</td>\n",
       "      <td>344.787353</td>\n",
       "      <td>24.346702</td>\n",
       "      <td>22.014602</td>\n",
       "      <td>2.0</td>\n",
       "      <td>185.465888</td>\n",
       "      <td>4.0</td>\n",
       "      <td>lxidpiddsbxsbosboudacockeimpuepw</td>\n",
       "      <td>31.418949</td>\n",
       "    </tr>\n",
       "  </tbody>\n",
       "</table>\n",
       "<p>5 rows × 29 columns</p>\n",
       "</div>"
      ],
      "text/plain": [
       "                        contract_id  Churning  elect_cons_at_12m  \\\n",
       "0  6975aab29f35173b43eae4f595b747c7       0.0            12067.0   \n",
       "1  8073016b742f47cf4c76cc41dc410122       1.0             3183.0   \n",
       "2  227c0e6b15256a1d3d3460e15c24ba60       0.0            18464.0   \n",
       "3  e1ea0597bbad7bfd95adf1c7103bfda1       0.0            17743.0   \n",
       "4  a2e017f297f2557a7b1cf4a92bc993e9       0.0            42537.0   \n",
       "\n",
       "   gas_cons_at_12m  elect_cons_last_month contract_activation_date  \\\n",
       "0           8723.0                  303.0               2009-08-21   \n",
       "1              0.0                  406.0               2011-12-19   \n",
       "2          26847.0                 1534.0               2010-01-20   \n",
       "3              0.0                    0.0               2012-03-12   \n",
       "4           7606.0                 3873.0               2012-07-12   \n",
       "\n",
       "  contract_end_date contract_last_mod_date contract_renewal_date  \\\n",
       "0        2016-08-21             2015-07-10            2015-08-22   \n",
       "1        2016-12-19             2015-11-01            2015-12-21   \n",
       "2        2016-06-04             2015-06-04            2015-01-22   \n",
       "3        2016-03-12             2012-03-12            2015-03-13   \n",
       "4        2016-09-20             2013-09-20            2015-09-25   \n",
       "\n",
       "   fcst_bill_baseline_elect_next_month  ...  fcst_price_power_period_1  \\\n",
       "0                                  NaN  ...                  27.257522   \n",
       "1                                  NaN  ...                  31.082797   \n",
       "2                                  NaN  ...                  27.592143   \n",
       "3                                  NaN  ...                  29.744311   \n",
       "4                                  NaN  ...                  27.257522   \n",
       "\n",
       "   client_got_gas  current_paid_consumption  gross_margin_power_elect  \\\n",
       "0               t                 27.027749                 30.223492   \n",
       "1               f                 54.699675                 38.276871   \n",
       "2               t                190.565716                 73.755271   \n",
       "3               f                  0.000000                 42.023714   \n",
       "4               t                344.787353                 24.346702   \n",
       "\n",
       "   net_margin_power_elect  number_active_products  total_net_margin  \\\n",
       "0               27.328471                     3.0         37.220019   \n",
       "1               34.610440                     1.0         17.946074   \n",
       "2               66.690466                     3.0         57.147990   \n",
       "3               37.998383                     1.0        105.174300   \n",
       "4               22.014602                     2.0        185.465888   \n",
       "\n",
       "   customer_antiquity_in_years    code_elect_campaign_first_subs  \\\n",
       "0                          6.0  kamkkxfxxuwbdslkwifmmcsiusiuosws   \n",
       "1                          4.0  lxidpiddsbxsbosboudacockeimpuepw   \n",
       "2                          6.0  kamkkxfxxuwbdslkwifmmcsiusiuosws   \n",
       "3                          4.0  lxidpiddsbxsbosboudacockeimpuepw   \n",
       "4                          4.0  lxidpiddsbxsbosboudacockeimpuepw   \n",
       "\n",
       "   subscribed_power  \n",
       "0         21.595285  \n",
       "1         15.648757  \n",
       "2         21.595285  \n",
       "3         16.462493  \n",
       "4         31.418949  \n",
       "\n",
       "[5 rows x 29 columns]"
      ]
     },
     "execution_count": 31,
     "metadata": {},
     "output_type": "execute_result"
    }
   ],
   "source": [
    "#JOINING THE TRAINING AND THE CHURNING DATAFRAMES\n",
    "TO_join = TrainOut.merge(Training,how='inner',left_on='contract_id',right_on='contract_id')\n",
    "TO_join.head()"
   ]
  },
  {
   "cell_type": "code",
   "execution_count": 32,
   "metadata": {},
   "outputs": [
    {
     "data": {
      "text/plain": [
       "16096"
      ]
     },
     "execution_count": 32,
     "metadata": {},
     "output_type": "execute_result"
    }
   ],
   "source": [
    "len(TO_join['Churning']) #Check"
   ]
  },
  {
   "cell_type": "code",
   "execution_count": 33,
   "metadata": {},
   "outputs": [
    {
     "data": {
      "text/plain": [
       "0"
      ]
     },
     "execution_count": 33,
     "metadata": {},
     "output_type": "execute_result"
    }
   ],
   "source": [
    "#Check consistency of 'client_got_gas' column\n",
    "len(TO_join[(TO_join['client_got_gas']!='f')&(TO_join['client_got_gas']!='t')])"
   ]
  },
  {
   "cell_type": "code",
   "execution_count": 34,
   "metadata": {},
   "outputs": [
    {
     "data": {
      "image/png": "[encoded data removed]",
      "text/plain": [
       "<Figure size 432x288 with 1 Axes>"
      ]
     },
     "metadata": {},
     "output_type": "display_data"
    }
   ],
   "source": [
    "#CHECK THE PERCENTAGES OF TOTAL NUMBER OF CUSTOMERS WITH AND WITHOUT GAS\n",
    "TO_joinGAS = TO_join.groupby(['client_got_gas']).count().contract_id.values.tolist()\n",
    "labels = ['Electricity','Electricity+Gas']\n",
    "\n",
    "fig1, ax1 = plt.subplots()\n",
    "explode_val = (0, 0)\n",
    "ax1.pie(TO_joinGAS, explode = explode_val, labels=labels, shadow=True, autopct='%1.1f%%',textprops={'fontsize': 14})\n",
    "ax1.axis('equal');\n",
    "ax1.set_title('All Customers - Plan',fontsize=14);"
   ]
  },
  {
   "cell_type": "code",
   "execution_count": 35,
   "metadata": {},
   "outputs": [
    {
     "name": "stdout",
     "output_type": "stream",
     "text": [
      "7.894736842105263\n",
      "92.10526315789474\n"
     ]
    }
   ],
   "source": [
    "#Check percentages of Churned and Non-Churned customers that have gas\n",
    "GAS=TO_join[TO_join['client_got_gas']=='t']\n",
    "ChurnWithGas = GAS[GAS['Churning']==1]\n",
    "NoChurnWithGas = GAS[GAS['Churning']==0]\n",
    "print(100*len(ChurnWithGas)/len(GAS))\n",
    "print(100*len(NoChurnWithGas)/len(GAS))"
   ]
  },
  {
   "cell_type": "code",
   "execution_count": 36,
   "metadata": {},
   "outputs": [
    {
     "data": {
      "image/png": "[encoded data removed]",
      "text/plain": [
       "<Figure size 1296x432 with 2 Axes>"
      ]
     },
     "metadata": {},
     "output_type": "display_data"
    }
   ],
   "source": [
    "# CREATE 2 SUB-DATAFRAMES TO SEPARATE CHURN AND NO-CHURN CASES\n",
    "TO_join_Churn = TO_join[(TO_join['Churning']==1)]\n",
    "TO_join_NoChurn = TO_join[(TO_join['Churning']==0)]\n",
    "\n",
    "#CALCULATE PERCENTAGE OF CHURNED AND NON-CHURNED CUSTOMERS HAVING AND NOT HAVING GAS SERVICE\n",
    "TO_join_ChurnGAS = len(TO_join_Churn[TO_join_Churn['client_got_gas']=='t'])/len(TO_join_Churn['client_got_gas'])\n",
    "TO_join_ChurnNoGAS = len(TO_join_Churn[TO_join_Churn['client_got_gas']=='f'])/len(TO_join_Churn['client_got_gas'])\n",
    "TO_join_NoChurnGAS = len(TO_join_NoChurn[TO_join_NoChurn['client_got_gas']=='t'])/len(TO_join_NoChurn['client_got_gas'])\n",
    "TO_join_NoChurnNoGAS = len(TO_join_NoChurn[TO_join_NoChurn['client_got_gas']=='f'])/len(TO_join_NoChurn['client_got_gas'])\n",
    "\n",
    "fig, (ax1, ax2) = plt.subplots(1,2, figsize=(18, 6))\n",
    "plt.subplots_adjust(wspace=0.2)\n",
    "a = ['Churn', 'No_Churn']\n",
    "b = [TO_join_ChurnGAS, TO_join_NoChurnGAS]\n",
    "c = [TO_join_ChurnNoGAS, TO_join_NoChurnNoGAS]\n",
    "ax1.barh(a, b, width, color=[\"darkorange\",\"blue\"])\n",
    "ax2.barh(a, c, width, color=[\"darkorange\",\"blue\"])\n",
    "ax1.set_xlabel('Percentage',fontsize=14)\n",
    "ax1.set_yticklabels(a,fontsize=13)\n",
    "ax2.set_xlabel('Percentage',fontsize=14)\n",
    "ax2.set_yticklabels(a,fontsize=13)\n",
    "ax1.set_title('Customers with gas service',fontweight='bold')\n",
    "ax2.set_title('Customers with no gas service',fontweight='bold')\n",
    "for i, v in enumerate(b):\n",
    "    ax1.text(v-0.03, i, str(round(v*100,0))+'%', color='white', fontweight='bold',fontsize=12)\n",
    "for i, v in enumerate(c):\n",
    "    ax2.text(v-0.1, i, str(round(v*100,0))+'%', color='white', fontweight='bold',fontsize=12)"
   ]
  },
  {
   "cell_type": "code",
   "execution_count": 37,
   "metadata": {},
   "outputs": [
    {
     "data": {
      "image/png": "[encoded data removed]",
      "text/plain": [
       "<Figure size 936x576 with 1 Axes>"
      ]
     },
     "metadata": {},
     "output_type": "display_data"
    }
   ],
   "source": [
    "# CREATE 2 SUB-DATAFRAMES TO SEPARATE CHURN AND NO-CHURN CASES FOR ALL CUSTOMERS THAT USED GAS\n",
    "TO_join_Churn = TO_join[(TO_join['Churning']==1) & (TO_join['client_got_gas']=='t')]\n",
    "TO_join_NoChurn = TO_join[(TO_join['Churning']==0) & (TO_join['client_got_gas']=='t')]\n",
    "\n",
    "#CALCULATE THE MEAN GAS CONSUMPTION FOR THE 2 GROUPS, AND PLOT\n",
    "Mean_gas_cons12m_Churn = TO_join_Churn['gas_cons_at_12m'].mean()\n",
    "Mean_gas_cons12m_NoChurn = TO_join_NoChurn['gas_cons_at_12m'].mean()\n",
    "\n",
    "fig = plt.figure(figsize=(13, 8)) \n",
    "a = ['Churn', 'No_Churn']\n",
    "b = [Mean_gas_cons12m_Churn, Mean_gas_cons12m_NoChurn]\n",
    "plt.barh(a, b, width, color=[\"darkorange\",\"blue\"])\n",
    "plt.xlabel('Gas consumption',fontsize=14)\n",
    "plt.yticks(a,fontsize=13)\n",
    "plt.title('Mean gas consumption - last 12 months',fontweight='bold')\n",
    "for i, v in enumerate(b):\n",
    "    plt.text(v-15000, i, str(round(v,2)), color='white', fontweight='bold',fontsize=14)"
   ]
  },
  {
   "cell_type": "markdown",
   "metadata": {},
   "source": [
    "### Correlation between Churning and mean electricity consumption"
   ]
  },
  {
   "cell_type": "code",
   "execution_count": 38,
   "metadata": {},
   "outputs": [
    {
     "data": {
      "image/png": "[encoded data removed]",
      "text/plain": [
       "<Figure size 1296x432 with 2 Axes>"
      ]
     },
     "metadata": {},
     "output_type": "display_data"
    }
   ],
   "source": [
    "# CREATE AGAIN 2 SUB-DATAFRAMES TO SEPARATE CHURN AND NO-CHURN CASES\n",
    "TO_join_Churn = TO_join[(TO_join['Churning']==1)]\n",
    "TO_join_NoChurn = TO_join[(TO_join['Churning']==0)]\n",
    "\n",
    "#CALCULATE THE MEAN ENERGY CONSUMPTION (12 MONTHS AND 1 MONTH) FOR THE 2 GROUPS, AND PLOT\n",
    "Mean_elect_cons12m_Churn = TO_join_Churn['elect_cons_at_12m'].mean()\n",
    "Mean_elect_cons1m_Churn = TO_join_Churn['elect_cons_last_month'].mean()\n",
    "\n",
    "Mean_elect_cons12m_NoChurn = TO_join_NoChurn['elect_cons_at_12m'].mean()\n",
    "Mean_elect_cons1m_NoChurn = TO_join_NoChurn['elect_cons_last_month'].mean()\n",
    "\n",
    "fig, (ax1, ax2) = plt.subplots(1,2, figsize=(18, 6))\n",
    "plt.subplots_adjust(wspace=0.2)\n",
    "\n",
    "a = ['Churn', 'No_Churn']\n",
    "b = [Mean_elect_cons12m_Churn, Mean_elect_cons12m_NoChurn]\n",
    "c = [Mean_elect_cons1m_Churn, Mean_elect_cons1m_NoChurn]\n",
    "width = 0.5\n",
    "ax1.barh(a, b, width, color=[\"darkorange\",\"blue\"])\n",
    "ax2.barh(a, c, width, color=[\"darkorange\",\"blue\"])\n",
    "ax1.set_xlabel('Electricity consumption',fontsize=14)\n",
    "ax1.set_yticklabels(a,fontsize=13)\n",
    "ax2.set_xlabel('Electricity consumption',fontsize=14)\n",
    "ax2.set_yticklabels(a,fontsize=13)\n",
    "ax1.set_title('Mean electricity consumption - last 12 months',fontweight='bold')\n",
    "ax2.set_title('Mean electricity consumption - last month',fontweight='bold')\n",
    "for i, v in enumerate(b):\n",
    "    ax1.text(v-50000, i, str(round(v,2)), color='white', fontweight='bold',fontsize=14)\n",
    "for i, v in enumerate(c):\n",
    "    ax2.text(v-3000, i, str(round(v,2)), color='white', fontweight='bold',fontsize=14);"
   ]
  },
  {
   "cell_type": "markdown",
   "metadata": {},
   "source": [
    "### Correlation between Churning and number of active products"
   ]
  },
  {
   "cell_type": "code",
   "execution_count": 39,
   "metadata": {},
   "outputs": [
    {
     "data": {
      "image/png": "[encoded data removed]",
      "text/plain": [
       "<Figure size 1296x432 with 2 Axes>"
      ]
     },
     "metadata": {},
     "output_type": "display_data"
    }
   ],
   "source": [
    "#CALCULATE PERCENTAGE OF CHURNED AND NON-CHURNED CUSTOMERS HAVING ONE ACTIVE PRODUCT, AND MORE THAN ONE ACTIVE PRODUCT\n",
    "TO_join_NoChurn1more = len(TO_join_NoChurn[TO_join_NoChurn['number_active_products']>1])/len(TO_join_NoChurn['number_active_products'])\n",
    "TO_join_NoChurn1 = len(TO_join_NoChurn[TO_join_NoChurn['number_active_products']==1])/len(TO_join_NoChurn['number_active_products'])\n",
    "\n",
    "TO_join_Churn1more = len(TO_join_Churn[TO_join_Churn['number_active_products']>1])/len(TO_join_Churn['number_active_products'])\n",
    "TO_join_Churn1 = len(TO_join_Churn[TO_join_Churn['number_active_products']==1])/len(TO_join_Churn['number_active_products'])\n",
    "\n",
    "fig, (ax1, ax2) = plt.subplots(1,2, figsize=(18, 6))\n",
    "plt.subplots_adjust(wspace=0.2)\n",
    "a = ['Churn', 'No_Churn']\n",
    "b = [TO_join_Churn1, TO_join_NoChurn1]\n",
    "c = [TO_join_Churn1more, TO_join_NoChurn1more]\n",
    "ax1.barh(a, b, width, color=[\"darkorange\",\"blue\"])\n",
    "ax2.barh(a, c, width, color=[\"darkorange\",\"blue\"])\n",
    "ax1.set_xlabel('Percentage',fontsize=14)\n",
    "ax1.set_yticklabels(a,fontsize=13)\n",
    "ax2.set_xlabel('Percentage',fontsize=14)\n",
    "ax2.set_yticklabels(a,fontsize=13)\n",
    "ax1.set_title('Customers with 1 Active product',fontweight='bold')\n",
    "ax2.set_title('Customers with more than 1 active product',fontweight='bold')\n",
    "for i, v in enumerate(b):\n",
    "    ax1.text(v-0.1, i, str(round(v*100,0))+'%', color='white', fontweight='bold',fontsize=12)\n",
    "for i, v in enumerate(c):\n",
    "    ax2.text(v-0.03, i, str(round(v*100,0))+'%', color='white', fontweight='bold',fontsize=12)"
   ]
  },
  {
   "cell_type": "code",
   "execution_count": 40,
   "metadata": {},
   "outputs": [
    {
     "data": {
      "image/png": "[encoded data removed]",
      "text/plain": [
       "<Figure size 720x720 with 1 Axes>"
      ]
     },
     "metadata": {},
     "output_type": "display_data"
    }
   ],
   "source": [
    "#CHECK THE PERCENTAGES OF TOTAL NUMBER OF CUSTOMERS WITH 1, 2, 3 OR MORE PRODUCTS\n",
    "Prod1 = len(TO_join[TO_join['number_active_products']==1])\n",
    "Prod2 = len(TO_join[TO_join['number_active_products']==2])\n",
    "Prod3 = len(TO_join[TO_join['number_active_products']==3])\n",
    "ProdMore = len(TO_join[TO_join['number_active_products']>3])\n",
    "fig = plt.figure(figsize=(10, 10))\n",
    "labels = ['1 Product', '2 Products', '3 Products', 'More than 3 Products']\n",
    "sizes=[Prod1,Prod2,Prod3,ProdMore]\n",
    "plt.pie(sizes,labels=labels,autopct='%1.1f%%',textprops={'fontsize': 14});\n",
    "plt.title('All Customers - Active products',fontsize=14);"
   ]
  },
  {
   "cell_type": "markdown",
   "metadata": {},
   "source": [
    "### Correlation between Churning and number of years with the company"
   ]
  },
  {
   "cell_type": "code",
   "execution_count": 41,
   "metadata": {},
   "outputs": [
    {
     "data": {
      "image/png": "[encoded data removed]",
      "text/plain": [
       "<Figure size 720x360 with 1 Axes>"
      ]
     },
     "metadata": {},
     "output_type": "display_data"
    }
   ],
   "source": [
    "#SHOW THE DISTRIBUTION OF CHURNED AND NON-CHURNED CUSTOMERS AS A FUNCTION OF THE NUMBER OF YEARS WITH THE COMPANY\n",
    "fig = plt.figure(figsize=(10,5))\n",
    "plt.hist([TO_join_Churn.customer_antiquity_in_years,TO_join_NoChurn.customer_antiquity_in_years],color=['darkorange','blue'],\n",
    "        label=['Churn','No_Churn'])\n",
    "plt.legend(fontsize=14)\n",
    "plt.ylabel('Number of Customers',fontsize=14)\n",
    "plt.xlabel('Year with the company',fontsize=14);"
   ]
  },
  {
   "cell_type": "code",
   "execution_count": 42,
   "metadata": {},
   "outputs": [
    {
     "data": {
      "image/png": "[encoded data removed]",
      "text/plain": [
       "<Figure size 936x576 with 1 Axes>"
      ]
     },
     "metadata": {},
     "output_type": "display_data"
    }
   ],
   "source": [
    "#CALCULATE THE MEAN NUMBER OF YEARS AS CUSTOMERS FOR THE 2 GROUPS, AND PLOT\n",
    "Years_Churn = TO_join_Churn['customer_antiquity_in_years'].mean()\n",
    "Years_NoChurn = TO_join_NoChurn['customer_antiquity_in_years'].mean()\n",
    "\n",
    "fig = plt.figure(figsize=(13, 8)) \n",
    "a = ['Churn', 'No_Churn']\n",
    "b = [Years_Churn, Years_NoChurn]\n",
    "plt.barh(a, b, width, color=[\"darkorange\",\"blue\"])\n",
    "plt.xlabel('Years with the company',fontsize=14)\n",
    "plt.yticks(a,fontsize=13)\n",
    "plt.title('Difference in average number of years with the company',fontweight='bold')\n",
    "for i, v in enumerate(b):\n",
    "    plt.text(v-0.6, i, str(round(v,1))+' years', color='white', fontweight='bold',fontsize=14)"
   ]
  },
  {
   "cell_type": "code",
   "execution_count": 43,
   "metadata": {
    "collapsed": true
   },
   "outputs": [],
   "source": [
    "#CONVERT CONTRACT LAST MODIFICATION DATE TO DATETIME FORMAT FOR THE 2 GROUPS\n",
    "TO_join_Churn['contract_last_mod_date']=TO_join_Churn['contract_last_mod_date'].astype('datetime64[ns]')\n",
    "TO_join_NoChurn['contract_last_mod_date']=TO_join_NoChurn['contract_last_mod_date'].astype('datetime64[ns]')"
   ]
  },
  {
   "cell_type": "code",
   "execution_count": 44,
   "metadata": {},
   "outputs": [
    {
     "data": {
      "text/plain": [
       "Text(0.5, 0, 'Contract last modification year')"
      ]
     },
     "execution_count": 44,
     "metadata": {},
     "output_type": "execute_result"
    },
    {
     "data": {
      "image/png": "[encoded data removed]",
      "text/plain": [
       "<Figure size 720x360 with 1 Axes>"
      ]
     },
     "metadata": {},
     "output_type": "display_data"
    }
   ],
   "source": [
    "#SHOW THE DISTRIBUTION OF THE 2 GROUPS AS A FUNCTION OF THE CONTRACT LAST MODIFICATION YEAR\n",
    "Modyear_Churn = TO_join_Churn['contract_last_mod_date'].apply(lambda x: x.year)\n",
    "Modyear_NoChurn = TO_join_NoChurn['contract_last_mod_date'].apply(lambda x: x.year)\n",
    "\n",
    "fig = plt.figure(figsize=(10,5))\n",
    "plt.hist([Modyear_Churn,Modyear_NoChurn],color=['darkorange','blue'],label=['Churn','No_Churn'])\n",
    "plt.legend(fontsize=14)\n",
    "plt.ylabel('Number of Customers',fontsize=14)\n",
    "plt.xlabel('Contract last modification year',fontsize=14)"
   ]
  },
  {
   "cell_type": "markdown",
   "metadata": {},
   "source": [
    "### Correlation between Churning and paid vs not_paid consumption"
   ]
  },
  {
   "cell_type": "code",
   "execution_count": 45,
   "metadata": {},
   "outputs": [
    {
     "data": {
      "image/png": "[encoded data removed]",
      "text/plain": [
       "<Figure size 1296x432 with 2 Axes>"
      ]
     },
     "metadata": {},
     "output_type": "display_data"
    }
   ],
   "source": [
    "#CALCULATE PERCENTAGES OF CHURNED AND NOT CHURNED CUSTOMERS THAT DID AND DID NOT PAY FOR CONSUMPTION, AND PLOT\n",
    "Churned_paid = len(TO_join_Churn[TO_join_Churn['current_paid_consumption']!=0])/len(TO_join_Churn)\n",
    "NoChurned_paid = len(TO_join_NoChurn[TO_join_NoChurn['current_paid_consumption']!=0])/len(TO_join_NoChurn)\n",
    "\n",
    "Churned_Unpaid = len(TO_join_Churn[TO_join_Churn['current_paid_consumption']==0])/len(TO_join_Churn)\n",
    "NoChurned_Unpaid = len(TO_join_NoChurn[TO_join_NoChurn['current_paid_consumption']==0])/len(TO_join_NoChurn)\n",
    "\n",
    "fig, (ax1, ax2) = plt.subplots(1,2, figsize=(18, 6))\n",
    "plt.subplots_adjust(wspace=0.2)\n",
    "a = ['Churn', 'No_Churn']\n",
    "b = [Churned_paid, NoChurned_paid]\n",
    "c = [Churned_Unpaid, NoChurned_Unpaid]\n",
    "ax1.barh(a, b, width, color=[\"darkorange\",\"blue\"])\n",
    "ax2.barh(a, c, width, color=[\"darkorange\",\"blue\"])\n",
    "ax1.set_xlabel('Percentage',fontsize=14)\n",
    "ax1.set_yticklabels(a,fontsize=13)\n",
    "ax2.set_xlabel('Percentage',fontsize=14)\n",
    "ax2.set_yticklabels(a,fontsize=13)\n",
    "ax1.set_title('Customers who paid consumption',fontweight='bold')\n",
    "ax2.set_title('Customers  who have not paid consumption',fontweight='bold')\n",
    "for i, v in enumerate(b):\n",
    "    ax1.text(v-0.1, i, str(round(v*100,0))+'%', color='white', fontweight='bold',fontsize=12)\n",
    "for i, v in enumerate(c):\n",
    "    ax2.text(v-0.07, i, str(round(v*100,0))+'%', color='white', fontweight='bold',fontsize=12)"
   ]
  },
  {
   "cell_type": "markdown",
   "metadata": {},
   "source": [
    "### Correlation between Churning and contract length"
   ]
  },
  {
   "cell_type": "code",
   "execution_count": 46,
   "metadata": {},
   "outputs": [
    {
     "data": {
      "text/html": [
       "<div>\n",
       "<style scoped>\n",
       "    .dataframe tbody tr th:only-of-type {\n",
       "        vertical-align: middle;\n",
       "    }\n",
       "\n",
       "    .dataframe tbody tr th {\n",
       "        vertical-align: top;\n",
       "    }\n",
       "\n",
       "    .dataframe thead th {\n",
       "        text-align: right;\n",
       "    }\n",
       "</style>\n",
       "<table border=\"1\" class=\"dataframe\">\n",
       "  <thead>\n",
       "    <tr style=\"text-align: right;\">\n",
       "      <th></th>\n",
       "      <th>contract_id</th>\n",
       "      <th>Churning</th>\n",
       "      <th>elect_cons_at_12m</th>\n",
       "      <th>gas_cons_at_12m</th>\n",
       "      <th>elect_cons_last_month</th>\n",
       "      <th>contract_activation_date</th>\n",
       "      <th>contract_end_date</th>\n",
       "      <th>contract_last_mod_date</th>\n",
       "      <th>contract_renewal_date</th>\n",
       "      <th>fcst_bill_baseline_elect_next_month</th>\n",
       "      <th>...</th>\n",
       "      <th>fcst_price_power_period_1</th>\n",
       "      <th>client_got_gas</th>\n",
       "      <th>current_paid_consumption</th>\n",
       "      <th>gross_margin_power_elect</th>\n",
       "      <th>net_margin_power_elect</th>\n",
       "      <th>number_active_products</th>\n",
       "      <th>total_net_margin</th>\n",
       "      <th>customer_antiquity_in_years</th>\n",
       "      <th>code_elect_campaign_first_subs</th>\n",
       "      <th>subscribed_power</th>\n",
       "    </tr>\n",
       "  </thead>\n",
       "  <tbody>\n",
       "    <tr>\n",
       "      <th>579</th>\n",
       "      <td>ec6c8b46866d76e99623ddcf9d334835</td>\n",
       "      <td>0.0</td>\n",
       "      <td>22257.0</td>\n",
       "      <td>0.0</td>\n",
       "      <td>1193.0</td>\n",
       "      <td>2010-09-06</td>\n",
       "      <td>NaN</td>\n",
       "      <td>2015-05-24</td>\n",
       "      <td>NaN</td>\n",
       "      <td>NaN</td>\n",
       "      <td>...</td>\n",
       "      <td>27.257522</td>\n",
       "      <td>f</td>\n",
       "      <td>110.320593</td>\n",
       "      <td>46.547909</td>\n",
       "      <td>42.089219</td>\n",
       "      <td>1.0</td>\n",
       "      <td>-83.482442</td>\n",
       "      <td>5.0</td>\n",
       "      <td>lxidpiddsbxsbosboudacockeimpuepw</td>\n",
       "      <td>78.061010</td>\n",
       "    </tr>\n",
       "    <tr>\n",
       "      <th>3616</th>\n",
       "      <td>f7aed20b79f48e9e87687dc74fc6a353</td>\n",
       "      <td>0.0</td>\n",
       "      <td>126712.0</td>\n",
       "      <td>0.0</td>\n",
       "      <td>0.0</td>\n",
       "      <td>2013-06-19</td>\n",
       "      <td>NaN</td>\n",
       "      <td>NaN</td>\n",
       "      <td>NaN</td>\n",
       "      <td>153.044009</td>\n",
       "      <td>...</td>\n",
       "      <td>27.257522</td>\n",
       "      <td>f</td>\n",
       "      <td>0.000000</td>\n",
       "      <td>-4.601931</td>\n",
       "      <td>-4.161125</td>\n",
       "      <td>1.0</td>\n",
       "      <td>380.866034</td>\n",
       "      <td>3.0</td>\n",
       "      <td>lxidpiddsbxsbosboudacockeimpuepw</td>\n",
       "      <td>43.816521</td>\n",
       "    </tr>\n",
       "  </tbody>\n",
       "</table>\n",
       "<p>2 rows × 29 columns</p>\n",
       "</div>"
      ],
      "text/plain": [
       "                           contract_id  Churning  elect_cons_at_12m  \\\n",
       "579   ec6c8b46866d76e99623ddcf9d334835       0.0            22257.0   \n",
       "3616  f7aed20b79f48e9e87687dc74fc6a353       0.0           126712.0   \n",
       "\n",
       "      gas_cons_at_12m  elect_cons_last_month contract_activation_date  \\\n",
       "579               0.0                 1193.0               2010-09-06   \n",
       "3616              0.0                    0.0               2013-06-19   \n",
       "\n",
       "     contract_end_date contract_last_mod_date contract_renewal_date  \\\n",
       "579                NaN             2015-05-24                   NaN   \n",
       "3616               NaN                    NaN                   NaN   \n",
       "\n",
       "      fcst_bill_baseline_elect_next_month  ...  fcst_price_power_period_1  \\\n",
       "579                                   NaN  ...                  27.257522   \n",
       "3616                           153.044009  ...                  27.257522   \n",
       "\n",
       "      client_got_gas  current_paid_consumption  gross_margin_power_elect  \\\n",
       "579                f                110.320593                 46.547909   \n",
       "3616               f                  0.000000                 -4.601931   \n",
       "\n",
       "      net_margin_power_elect  number_active_products  total_net_margin  \\\n",
       "579                42.089219                     1.0        -83.482442   \n",
       "3616               -4.161125                     1.0        380.866034   \n",
       "\n",
       "      customer_antiquity_in_years    code_elect_campaign_first_subs  \\\n",
       "579                           5.0  lxidpiddsbxsbosboudacockeimpuepw   \n",
       "3616                          3.0  lxidpiddsbxsbosboudacockeimpuepw   \n",
       "\n",
       "      subscribed_power  \n",
       "579          78.061010  \n",
       "3616         43.816521  \n",
       "\n",
       "[2 rows x 29 columns]"
      ]
     },
     "execution_count": 46,
     "metadata": {},
     "output_type": "execute_result"
    }
   ],
   "source": [
    "TO_join[TO_join['contract_end_date'].isnull()]"
   ]
  },
  {
   "cell_type": "code",
   "execution_count": 47,
   "metadata": {
    "collapsed": true
   },
   "outputs": [],
   "source": [
    "#drop rows with null values for contract end date\n",
    "TO_join = TO_join[TO_join['contract_end_date'].notna()]"
   ]
  },
  {
   "cell_type": "code",
   "execution_count": 48,
   "metadata": {
    "collapsed": true
   },
   "outputs": [],
   "source": [
    "#Convert all dates columns to datetime types\n",
    "TO_join['contract_activation_date']=TO_join['contract_activation_date'].astype('datetime64[ns]')\n",
    "TO_join['contract_end_date']=TO_join['contract_end_date'].astype('datetime64[ns]')\n",
    "TO_join['contract_last_mod_date']=TO_join['contract_last_mod_date'].astype('datetime64[ns]')\n",
    "TO_join['contract_renewal_date']=TO_join['contract_renewal_date'].astype('datetime64[ns]')"
   ]
  },
  {
   "cell_type": "code",
   "execution_count": 49,
   "metadata": {
    "collapsed": true
   },
   "outputs": [],
   "source": [
    "#Find the difference between activation and end contract date in days\n",
    "TO_join['Contract_length_(days)'] = (TO_join['contract_end_date'] - TO_join['contract_activation_date']).dt.days\n",
    "TO_join['Contract_length_(days)'] = TO_join['Contract_length_(days)'].astype(float)"
   ]
  },
  {
   "cell_type": "code",
   "execution_count": 50,
   "metadata": {},
   "outputs": [
    {
     "data": {
      "text/html": [
       "<div>\n",
       "<style scoped>\n",
       "    .dataframe tbody tr th:only-of-type {\n",
       "        vertical-align: middle;\n",
       "    }\n",
       "\n",
       "    .dataframe tbody tr th {\n",
       "        vertical-align: top;\n",
       "    }\n",
       "\n",
       "    .dataframe thead th {\n",
       "        text-align: right;\n",
       "    }\n",
       "</style>\n",
       "<table border=\"1\" class=\"dataframe\">\n",
       "  <thead>\n",
       "    <tr style=\"text-align: right;\">\n",
       "      <th></th>\n",
       "      <th>contract_id</th>\n",
       "      <th>Churning</th>\n",
       "      <th>elect_cons_at_12m</th>\n",
       "      <th>gas_cons_at_12m</th>\n",
       "      <th>elect_cons_last_month</th>\n",
       "      <th>contract_activation_date</th>\n",
       "      <th>contract_end_date</th>\n",
       "      <th>contract_last_mod_date</th>\n",
       "      <th>contract_renewal_date</th>\n",
       "      <th>fcst_bill_baseline_elect_next_month</th>\n",
       "      <th>...</th>\n",
       "      <th>client_got_gas</th>\n",
       "      <th>current_paid_consumption</th>\n",
       "      <th>gross_margin_power_elect</th>\n",
       "      <th>net_margin_power_elect</th>\n",
       "      <th>number_active_products</th>\n",
       "      <th>total_net_margin</th>\n",
       "      <th>customer_antiquity_in_years</th>\n",
       "      <th>code_elect_campaign_first_subs</th>\n",
       "      <th>subscribed_power</th>\n",
       "      <th>Contract_length_(days)</th>\n",
       "    </tr>\n",
       "  </thead>\n",
       "  <tbody>\n",
       "    <tr>\n",
       "      <th>0</th>\n",
       "      <td>6975aab29f35173b43eae4f595b747c7</td>\n",
       "      <td>0.0</td>\n",
       "      <td>12067.0</td>\n",
       "      <td>8723.0</td>\n",
       "      <td>303.0</td>\n",
       "      <td>2009-08-21</td>\n",
       "      <td>2016-08-21</td>\n",
       "      <td>2015-07-10</td>\n",
       "      <td>2015-08-22</td>\n",
       "      <td>NaN</td>\n",
       "      <td>...</td>\n",
       "      <td>t</td>\n",
       "      <td>27.027749</td>\n",
       "      <td>30.223492</td>\n",
       "      <td>27.328471</td>\n",
       "      <td>3.0</td>\n",
       "      <td>37.220019</td>\n",
       "      <td>6.0</td>\n",
       "      <td>kamkkxfxxuwbdslkwifmmcsiusiuosws</td>\n",
       "      <td>21.595285</td>\n",
       "      <td>2557.0</td>\n",
       "    </tr>\n",
       "    <tr>\n",
       "      <th>1</th>\n",
       "      <td>8073016b742f47cf4c76cc41dc410122</td>\n",
       "      <td>1.0</td>\n",
       "      <td>3183.0</td>\n",
       "      <td>0.0</td>\n",
       "      <td>406.0</td>\n",
       "      <td>2011-12-19</td>\n",
       "      <td>2016-12-19</td>\n",
       "      <td>2015-11-01</td>\n",
       "      <td>2015-12-21</td>\n",
       "      <td>NaN</td>\n",
       "      <td>...</td>\n",
       "      <td>f</td>\n",
       "      <td>54.699675</td>\n",
       "      <td>38.276871</td>\n",
       "      <td>34.610440</td>\n",
       "      <td>1.0</td>\n",
       "      <td>17.946074</td>\n",
       "      <td>4.0</td>\n",
       "      <td>lxidpiddsbxsbosboudacockeimpuepw</td>\n",
       "      <td>15.648757</td>\n",
       "      <td>1827.0</td>\n",
       "    </tr>\n",
       "  </tbody>\n",
       "</table>\n",
       "<p>2 rows × 30 columns</p>\n",
       "</div>"
      ],
      "text/plain": [
       "                        contract_id  Churning  elect_cons_at_12m  \\\n",
       "0  6975aab29f35173b43eae4f595b747c7       0.0            12067.0   \n",
       "1  8073016b742f47cf4c76cc41dc410122       1.0             3183.0   \n",
       "\n",
       "   gas_cons_at_12m  elect_cons_last_month contract_activation_date  \\\n",
       "0           8723.0                  303.0               2009-08-21   \n",
       "1              0.0                  406.0               2011-12-19   \n",
       "\n",
       "  contract_end_date contract_last_mod_date contract_renewal_date  \\\n",
       "0        2016-08-21             2015-07-10            2015-08-22   \n",
       "1        2016-12-19             2015-11-01            2015-12-21   \n",
       "\n",
       "   fcst_bill_baseline_elect_next_month  ...  client_got_gas  \\\n",
       "0                                  NaN  ...               t   \n",
       "1                                  NaN  ...               f   \n",
       "\n",
       "   current_paid_consumption  gross_margin_power_elect  net_margin_power_elect  \\\n",
       "0                 27.027749                 30.223492               27.328471   \n",
       "1                 54.699675                 38.276871               34.610440   \n",
       "\n",
       "   number_active_products  total_net_margin  customer_antiquity_in_years  \\\n",
       "0                     3.0         37.220019                          6.0   \n",
       "1                     1.0         17.946074                          4.0   \n",
       "\n",
       "     code_elect_campaign_first_subs  subscribed_power  Contract_length_(days)  \n",
       "0  kamkkxfxxuwbdslkwifmmcsiusiuosws         21.595285                  2557.0  \n",
       "1  lxidpiddsbxsbosboudacockeimpuepw         15.648757                  1827.0  \n",
       "\n",
       "[2 rows x 30 columns]"
      ]
     },
     "execution_count": 50,
     "metadata": {},
     "output_type": "execute_result"
    }
   ],
   "source": [
    "TO_join.head(2)"
   ]
  },
  {
   "cell_type": "code",
   "execution_count": 51,
   "metadata": {},
   "outputs": [
    {
     "data": {
      "image/png": "[encoded data removed]",
      "text/plain": [
       "<Figure size 936x576 with 1 Axes>"
      ]
     },
     "metadata": {},
     "output_type": "display_data"
    }
   ],
   "source": [
    "#CALCULATE THE MEAN NUMBER OF YEARS AS CUSTOMERS FOR THE 2 GROUPS, AND PLOT\n",
    "TO_join_Churn = TO_join[(TO_join['Churning']==1)]\n",
    "TO_join_NoChurn = TO_join[(TO_join['Churning']==0)]\n",
    "\n",
    "ContractLength_Churn = TO_join_Churn['Contract_length_(days)'].mean()\n",
    "ContractLength_NoChurn = TO_join_NoChurn['Contract_length_(days)'].mean()\n",
    "\n",
    "fig = plt.figure(figsize=(13, 8)) \n",
    "a = ['Churn', 'No_Churn']\n",
    "b = [ContractLength_Churn, ContractLength_NoChurn]\n",
    "plt.barh(a, b, width, color=[\"darkorange\",\"blue\"])\n",
    "plt.xlabel('Years of contract',fontsize=14)\n",
    "plt.yticks(a,fontsize=13)\n",
    "plt.title('Difference in average number of years of contract length',fontweight='bold')\n",
    "for i, v in enumerate(b):\n",
    "    plt.text(v-500, i, str(round(v/365,1))+' years', color='white', fontweight='bold',fontsize=14)"
   ]
  },
  {
   "cell_type": "markdown",
   "metadata": {},
   "source": [
    "## Final cleaning and data preparation"
   ]
  },
  {
   "cell_type": "code",
   "execution_count": 52,
   "metadata": {},
   "outputs": [
    {
     "data": {
      "text/html": [
       "<div>\n",
       "<style scoped>\n",
       "    .dataframe tbody tr th:only-of-type {\n",
       "        vertical-align: middle;\n",
       "    }\n",
       "\n",
       "    .dataframe tbody tr th {\n",
       "        vertical-align: top;\n",
       "    }\n",
       "\n",
       "    .dataframe thead th {\n",
       "        text-align: right;\n",
       "    }\n",
       "</style>\n",
       "<table border=\"1\" class=\"dataframe\">\n",
       "  <thead>\n",
       "    <tr style=\"text-align: right;\">\n",
       "      <th></th>\n",
       "      <th>contract_id</th>\n",
       "      <th>Churning</th>\n",
       "      <th>price_energy_1st_period</th>\n",
       "      <th>price_energy_2nd_period</th>\n",
       "      <th>price_energy_3rd_period</th>\n",
       "      <th>price_power_1st_period</th>\n",
       "      <th>price_power_2nd_period</th>\n",
       "      <th>price_power_3rd_period</th>\n",
       "      <th>AVG_price_energy</th>\n",
       "      <th>AVG_price_power</th>\n",
       "    </tr>\n",
       "  </thead>\n",
       "  <tbody>\n",
       "    <tr>\n",
       "      <th>0</th>\n",
       "      <td>6975aab29f35173b43eae4f595b747c7</td>\n",
       "      <td>0.0</td>\n",
       "      <td>1.328094</td>\n",
       "      <td>0.968983</td>\n",
       "      <td>1.104592</td>\n",
       "      <td>439.652769</td>\n",
       "      <td>221.001172</td>\n",
       "      <td>147.798618</td>\n",
       "      <td>1.133890</td>\n",
       "      <td>269.484186</td>\n",
       "    </tr>\n",
       "    <tr>\n",
       "      <th>1</th>\n",
       "      <td>8073016b742f47cf4c76cc41dc410122</td>\n",
       "      <td>1.0</td>\n",
       "      <td>1.619746</td>\n",
       "      <td>0.000000</td>\n",
       "      <td>0.000000</td>\n",
       "      <td>479.603318</td>\n",
       "      <td>0.000000</td>\n",
       "      <td>0.000000</td>\n",
       "      <td>0.539915</td>\n",
       "      <td>159.867773</td>\n",
       "    </tr>\n",
       "  </tbody>\n",
       "</table>\n",
       "</div>"
      ],
      "text/plain": [
       "                        contract_id  Churning  price_energy_1st_period  \\\n",
       "0  6975aab29f35173b43eae4f595b747c7       0.0                 1.328094   \n",
       "1  8073016b742f47cf4c76cc41dc410122       1.0                 1.619746   \n",
       "\n",
       "   price_energy_2nd_period  price_energy_3rd_period  price_power_1st_period  \\\n",
       "0                 0.968983                 1.104592              439.652769   \n",
       "1                 0.000000                 0.000000              479.603318   \n",
       "\n",
       "   price_power_2nd_period  price_power_3rd_period  AVG_price_energy  \\\n",
       "0              221.001172              147.798618          1.133890   \n",
       "1                0.000000                0.000000          0.539915   \n",
       "\n",
       "   AVG_price_power  \n",
       "0       269.484186  \n",
       "1       159.867773  "
      ]
     },
     "execution_count": 52,
     "metadata": {},
     "output_type": "execute_result"
    }
   ],
   "source": [
    "THO_join.head(2)"
   ]
  },
  {
   "cell_type": "code",
   "execution_count": 53,
   "metadata": {
    "collapsed": true
   },
   "outputs": [],
   "source": [
    "cols = [1,2,3,4,5,6,7]\n",
    "THO_join.drop(THO_join.columns[cols],axis=1,inplace=True)"
   ]
  },
  {
   "cell_type": "code",
   "execution_count": 54,
   "metadata": {},
   "outputs": [
    {
     "data": {
      "text/html": [
       "<div>\n",
       "<style scoped>\n",
       "    .dataframe tbody tr th:only-of-type {\n",
       "        vertical-align: middle;\n",
       "    }\n",
       "\n",
       "    .dataframe tbody tr th {\n",
       "        vertical-align: top;\n",
       "    }\n",
       "\n",
       "    .dataframe thead th {\n",
       "        text-align: right;\n",
       "    }\n",
       "</style>\n",
       "<table border=\"1\" class=\"dataframe\">\n",
       "  <thead>\n",
       "    <tr style=\"text-align: right;\">\n",
       "      <th></th>\n",
       "      <th>contract_id</th>\n",
       "      <th>AVG_price_energy</th>\n",
       "      <th>AVG_price_power</th>\n",
       "    </tr>\n",
       "  </thead>\n",
       "  <tbody>\n",
       "    <tr>\n",
       "      <th>0</th>\n",
       "      <td>6975aab29f35173b43eae4f595b747c7</td>\n",
       "      <td>1.133890</td>\n",
       "      <td>269.484186</td>\n",
       "    </tr>\n",
       "    <tr>\n",
       "      <th>1</th>\n",
       "      <td>8073016b742f47cf4c76cc41dc410122</td>\n",
       "      <td>0.539915</td>\n",
       "      <td>159.867773</td>\n",
       "    </tr>\n",
       "    <tr>\n",
       "      <th>2</th>\n",
       "      <td>227c0e6b15256a1d3d3460e15c24ba60</td>\n",
       "      <td>1.387977</td>\n",
       "      <td>271.930898</td>\n",
       "    </tr>\n",
       "    <tr>\n",
       "      <th>3</th>\n",
       "      <td>e1ea0597bbad7bfd95adf1c7103bfda1</td>\n",
       "      <td>0.536597</td>\n",
       "      <td>160.188472</td>\n",
       "    </tr>\n",
       "    <tr>\n",
       "      <th>4</th>\n",
       "      <td>a2e017f297f2557a7b1cf4a92bc993e9</td>\n",
       "      <td>1.109814</td>\n",
       "      <td>269.484186</td>\n",
       "    </tr>\n",
       "  </tbody>\n",
       "</table>\n",
       "</div>"
      ],
      "text/plain": [
       "                        contract_id  AVG_price_energy  AVG_price_power\n",
       "0  6975aab29f35173b43eae4f595b747c7          1.133890       269.484186\n",
       "1  8073016b742f47cf4c76cc41dc410122          0.539915       159.867773\n",
       "2  227c0e6b15256a1d3d3460e15c24ba60          1.387977       271.930898\n",
       "3  e1ea0597bbad7bfd95adf1c7103bfda1          0.536597       160.188472\n",
       "4  a2e017f297f2557a7b1cf4a92bc993e9          1.109814       269.484186"
      ]
     },
     "execution_count": 54,
     "metadata": {},
     "output_type": "execute_result"
    }
   ],
   "source": [
    "THO_join.head(5)"
   ]
  },
  {
   "cell_type": "code",
   "execution_count": 55,
   "metadata": {
    "collapsed": true
   },
   "outputs": [],
   "source": [
    "#MAKING THE NEW DATAFRAME ADDING ENERGY AND POWER PRICES TO THE TRAINING DATAFRAME\n",
    "data = TO_join.merge(THO_join ,how='inner',left_on='contract_id',right_on='contract_id')"
   ]
  },
  {
   "cell_type": "code",
   "execution_count": 56,
   "metadata": {},
   "outputs": [
    {
     "data": {
      "text/html": [
       "<div>\n",
       "<style scoped>\n",
       "    .dataframe tbody tr th:only-of-type {\n",
       "        vertical-align: middle;\n",
       "    }\n",
       "\n",
       "    .dataframe tbody tr th {\n",
       "        vertical-align: top;\n",
       "    }\n",
       "\n",
       "    .dataframe thead th {\n",
       "        text-align: right;\n",
       "    }\n",
       "</style>\n",
       "<table border=\"1\" class=\"dataframe\">\n",
       "  <thead>\n",
       "    <tr style=\"text-align: right;\">\n",
       "      <th></th>\n",
       "      <th>contract_id</th>\n",
       "      <th>Churning</th>\n",
       "      <th>elect_cons_at_12m</th>\n",
       "      <th>gas_cons_at_12m</th>\n",
       "      <th>elect_cons_last_month</th>\n",
       "      <th>contract_activation_date</th>\n",
       "      <th>contract_end_date</th>\n",
       "      <th>contract_last_mod_date</th>\n",
       "      <th>contract_renewal_date</th>\n",
       "      <th>fcst_bill_baseline_elect_next_month</th>\n",
       "      <th>...</th>\n",
       "      <th>gross_margin_power_elect</th>\n",
       "      <th>net_margin_power_elect</th>\n",
       "      <th>number_active_products</th>\n",
       "      <th>total_net_margin</th>\n",
       "      <th>customer_antiquity_in_years</th>\n",
       "      <th>code_elect_campaign_first_subs</th>\n",
       "      <th>subscribed_power</th>\n",
       "      <th>Contract_length_(days)</th>\n",
       "      <th>AVG_price_energy</th>\n",
       "      <th>AVG_price_power</th>\n",
       "    </tr>\n",
       "  </thead>\n",
       "  <tbody>\n",
       "    <tr>\n",
       "      <th>0</th>\n",
       "      <td>6975aab29f35173b43eae4f595b747c7</td>\n",
       "      <td>0.0</td>\n",
       "      <td>12067.0</td>\n",
       "      <td>8723.0</td>\n",
       "      <td>303.0</td>\n",
       "      <td>2009-08-21</td>\n",
       "      <td>2016-08-21</td>\n",
       "      <td>2015-07-10</td>\n",
       "      <td>2015-08-22</td>\n",
       "      <td>NaN</td>\n",
       "      <td>...</td>\n",
       "      <td>30.223492</td>\n",
       "      <td>27.328471</td>\n",
       "      <td>3.0</td>\n",
       "      <td>37.220019</td>\n",
       "      <td>6.0</td>\n",
       "      <td>kamkkxfxxuwbdslkwifmmcsiusiuosws</td>\n",
       "      <td>21.595285</td>\n",
       "      <td>2557.0</td>\n",
       "      <td>1.133890</td>\n",
       "      <td>269.484186</td>\n",
       "    </tr>\n",
       "    <tr>\n",
       "      <th>1</th>\n",
       "      <td>8073016b742f47cf4c76cc41dc410122</td>\n",
       "      <td>1.0</td>\n",
       "      <td>3183.0</td>\n",
       "      <td>0.0</td>\n",
       "      <td>406.0</td>\n",
       "      <td>2011-12-19</td>\n",
       "      <td>2016-12-19</td>\n",
       "      <td>2015-11-01</td>\n",
       "      <td>2015-12-21</td>\n",
       "      <td>NaN</td>\n",
       "      <td>...</td>\n",
       "      <td>38.276871</td>\n",
       "      <td>34.610440</td>\n",
       "      <td>1.0</td>\n",
       "      <td>17.946074</td>\n",
       "      <td>4.0</td>\n",
       "      <td>lxidpiddsbxsbosboudacockeimpuepw</td>\n",
       "      <td>15.648757</td>\n",
       "      <td>1827.0</td>\n",
       "      <td>0.539915</td>\n",
       "      <td>159.867773</td>\n",
       "    </tr>\n",
       "  </tbody>\n",
       "</table>\n",
       "<p>2 rows × 32 columns</p>\n",
       "</div>"
      ],
      "text/plain": [
       "                        contract_id  Churning  elect_cons_at_12m  \\\n",
       "0  6975aab29f35173b43eae4f595b747c7       0.0            12067.0   \n",
       "1  8073016b742f47cf4c76cc41dc410122       1.0             3183.0   \n",
       "\n",
       "   gas_cons_at_12m  elect_cons_last_month contract_activation_date  \\\n",
       "0           8723.0                  303.0               2009-08-21   \n",
       "1              0.0                  406.0               2011-12-19   \n",
       "\n",
       "  contract_end_date contract_last_mod_date contract_renewal_date  \\\n",
       "0        2016-08-21             2015-07-10            2015-08-22   \n",
       "1        2016-12-19             2015-11-01            2015-12-21   \n",
       "\n",
       "   fcst_bill_baseline_elect_next_month  ...  gross_margin_power_elect  \\\n",
       "0                                  NaN  ...                 30.223492   \n",
       "1                                  NaN  ...                 38.276871   \n",
       "\n",
       "   net_margin_power_elect  number_active_products  total_net_margin  \\\n",
       "0               27.328471                     3.0         37.220019   \n",
       "1               34.610440                     1.0         17.946074   \n",
       "\n",
       "   customer_antiquity_in_years    code_elect_campaign_first_subs  \\\n",
       "0                          6.0  kamkkxfxxuwbdslkwifmmcsiusiuosws   \n",
       "1                          4.0  lxidpiddsbxsbosboudacockeimpuepw   \n",
       "\n",
       "   subscribed_power  Contract_length_(days)  AVG_price_energy  AVG_price_power  \n",
       "0         21.595285                  2557.0          1.133890       269.484186  \n",
       "1         15.648757                  1827.0          0.539915       159.867773  \n",
       "\n",
       "[2 rows x 32 columns]"
      ]
     },
     "execution_count": 56,
     "metadata": {},
     "output_type": "execute_result"
    }
   ],
   "source": [
    "data.head(2)"
   ]
  },
  {
   "cell_type": "code",
   "execution_count": 57,
   "metadata": {},
   "outputs": [
    {
     "data": {
      "text/html": [
       "<div>\n",
       "<style scoped>\n",
       "    .dataframe tbody tr th:only-of-type {\n",
       "        vertical-align: middle;\n",
       "    }\n",
       "\n",
       "    .dataframe tbody tr th {\n",
       "        vertical-align: top;\n",
       "    }\n",
       "\n",
       "    .dataframe thead th {\n",
       "        text-align: right;\n",
       "    }\n",
       "</style>\n",
       "<table border=\"1\" class=\"dataframe\">\n",
       "  <thead>\n",
       "    <tr style=\"text-align: right;\">\n",
       "      <th></th>\n",
       "      <th>contract_id</th>\n",
       "      <th>Churning</th>\n",
       "      <th>elect_cons_at_12m</th>\n",
       "      <th>gas_cons_at_12m</th>\n",
       "      <th>elect_cons_last_month</th>\n",
       "      <th>fcst_bill_baseline_elect_cal_year</th>\n",
       "      <th>fcst_bill_baseline_elect_12m</th>\n",
       "      <th>fcst_consumption_elect_next_month</th>\n",
       "      <th>fcst_consumption_elect_12m</th>\n",
       "      <th>fcst_consumption_elect_cal_year</th>\n",
       "      <th>...</th>\n",
       "      <th>gross_margin_power_elect</th>\n",
       "      <th>net_margin_power_elect</th>\n",
       "      <th>number_active_products</th>\n",
       "      <th>total_net_margin</th>\n",
       "      <th>customer_antiquity_in_years</th>\n",
       "      <th>code_elect_campaign_first_subs</th>\n",
       "      <th>subscribed_power</th>\n",
       "      <th>Contract_length_(days)</th>\n",
       "      <th>AVG_price_energy</th>\n",
       "      <th>AVG_price_power</th>\n",
       "    </tr>\n",
       "  </thead>\n",
       "  <tbody>\n",
       "    <tr>\n",
       "      <th>0</th>\n",
       "      <td>6975aab29f35173b43eae4f595b747c7</td>\n",
       "      <td>0.0</td>\n",
       "      <td>12067.0</td>\n",
       "      <td>8723.0</td>\n",
       "      <td>303.0</td>\n",
       "      <td>NaN</td>\n",
       "      <td>NaN</td>\n",
       "      <td>NaN</td>\n",
       "      <td>395.464648</td>\n",
       "      <td>368.851331</td>\n",
       "      <td>...</td>\n",
       "      <td>30.223492</td>\n",
       "      <td>27.328471</td>\n",
       "      <td>3.0</td>\n",
       "      <td>37.220019</td>\n",
       "      <td>6.0</td>\n",
       "      <td>kamkkxfxxuwbdslkwifmmcsiusiuosws</td>\n",
       "      <td>21.595285</td>\n",
       "      <td>2557.0</td>\n",
       "      <td>1.133890</td>\n",
       "      <td>269.484186</td>\n",
       "    </tr>\n",
       "    <tr>\n",
       "      <th>1</th>\n",
       "      <td>8073016b742f47cf4c76cc41dc410122</td>\n",
       "      <td>1.0</td>\n",
       "      <td>3183.0</td>\n",
       "      <td>0.0</td>\n",
       "      <td>406.0</td>\n",
       "      <td>NaN</td>\n",
       "      <td>NaN</td>\n",
       "      <td>NaN</td>\n",
       "      <td>228.789150</td>\n",
       "      <td>494.224444</td>\n",
       "      <td>...</td>\n",
       "      <td>38.276871</td>\n",
       "      <td>34.610440</td>\n",
       "      <td>1.0</td>\n",
       "      <td>17.946074</td>\n",
       "      <td>4.0</td>\n",
       "      <td>lxidpiddsbxsbosboudacockeimpuepw</td>\n",
       "      <td>15.648757</td>\n",
       "      <td>1827.0</td>\n",
       "      <td>0.539915</td>\n",
       "      <td>159.867773</td>\n",
       "    </tr>\n",
       "    <tr>\n",
       "      <th>2</th>\n",
       "      <td>227c0e6b15256a1d3d3460e15c24ba60</td>\n",
       "      <td>0.0</td>\n",
       "      <td>18464.0</td>\n",
       "      <td>26847.0</td>\n",
       "      <td>1534.0</td>\n",
       "      <td>NaN</td>\n",
       "      <td>NaN</td>\n",
       "      <td>NaN</td>\n",
       "      <td>1096.439754</td>\n",
       "      <td>1863.335174</td>\n",
       "      <td>...</td>\n",
       "      <td>73.755271</td>\n",
       "      <td>66.690466</td>\n",
       "      <td>3.0</td>\n",
       "      <td>57.147990</td>\n",
       "      <td>6.0</td>\n",
       "      <td>kamkkxfxxuwbdslkwifmmcsiusiuosws</td>\n",
       "      <td>21.595285</td>\n",
       "      <td>2327.0</td>\n",
       "      <td>1.387977</td>\n",
       "      <td>271.930898</td>\n",
       "    </tr>\n",
       "    <tr>\n",
       "      <th>3</th>\n",
       "      <td>e1ea0597bbad7bfd95adf1c7103bfda1</td>\n",
       "      <td>0.0</td>\n",
       "      <td>17743.0</td>\n",
       "      <td>0.0</td>\n",
       "      <td>0.0</td>\n",
       "      <td>NaN</td>\n",
       "      <td>NaN</td>\n",
       "      <td>NaN</td>\n",
       "      <td>1270.888652</td>\n",
       "      <td>0.000000</td>\n",
       "      <td>...</td>\n",
       "      <td>42.023714</td>\n",
       "      <td>37.998383</td>\n",
       "      <td>1.0</td>\n",
       "      <td>105.174300</td>\n",
       "      <td>4.0</td>\n",
       "      <td>lxidpiddsbxsbosboudacockeimpuepw</td>\n",
       "      <td>16.462493</td>\n",
       "      <td>1461.0</td>\n",
       "      <td>0.536597</td>\n",
       "      <td>160.188472</td>\n",
       "    </tr>\n",
       "    <tr>\n",
       "      <th>4</th>\n",
       "      <td>a2e017f297f2557a7b1cf4a92bc993e9</td>\n",
       "      <td>0.0</td>\n",
       "      <td>42537.0</td>\n",
       "      <td>7606.0</td>\n",
       "      <td>3873.0</td>\n",
       "      <td>NaN</td>\n",
       "      <td>NaN</td>\n",
       "      <td>NaN</td>\n",
       "      <td>2006.504608</td>\n",
       "      <td>4703.308727</td>\n",
       "      <td>...</td>\n",
       "      <td>24.346702</td>\n",
       "      <td>22.014602</td>\n",
       "      <td>2.0</td>\n",
       "      <td>185.465888</td>\n",
       "      <td>4.0</td>\n",
       "      <td>lxidpiddsbxsbosboudacockeimpuepw</td>\n",
       "      <td>31.418949</td>\n",
       "      <td>1531.0</td>\n",
       "      <td>1.109814</td>\n",
       "      <td>269.484186</td>\n",
       "    </tr>\n",
       "  </tbody>\n",
       "</table>\n",
       "<p>5 rows × 27 columns</p>\n",
       "</div>"
      ],
      "text/plain": [
       "                        contract_id  Churning  elect_cons_at_12m  \\\n",
       "0  6975aab29f35173b43eae4f595b747c7       0.0            12067.0   \n",
       "1  8073016b742f47cf4c76cc41dc410122       1.0             3183.0   \n",
       "2  227c0e6b15256a1d3d3460e15c24ba60       0.0            18464.0   \n",
       "3  e1ea0597bbad7bfd95adf1c7103bfda1       0.0            17743.0   \n",
       "4  a2e017f297f2557a7b1cf4a92bc993e9       0.0            42537.0   \n",
       "\n",
       "   gas_cons_at_12m  elect_cons_last_month  fcst_bill_baseline_elect_cal_year  \\\n",
       "0           8723.0                  303.0                                NaN   \n",
       "1              0.0                  406.0                                NaN   \n",
       "2          26847.0                 1534.0                                NaN   \n",
       "3              0.0                    0.0                                NaN   \n",
       "4           7606.0                 3873.0                                NaN   \n",
       "\n",
       "   fcst_bill_baseline_elect_12m  fcst_consumption_elect_next_month  \\\n",
       "0                           NaN                                NaN   \n",
       "1                           NaN                                NaN   \n",
       "2                           NaN                                NaN   \n",
       "3                           NaN                                NaN   \n",
       "4                           NaN                                NaN   \n",
       "\n",
       "   fcst_consumption_elect_12m  fcst_consumption_elect_cal_year  ...  \\\n",
       "0                  395.464648                       368.851331  ...   \n",
       "1                  228.789150                       494.224444  ...   \n",
       "2                 1096.439754                      1863.335174  ...   \n",
       "3                 1270.888652                         0.000000  ...   \n",
       "4                 2006.504608                      4703.308727  ...   \n",
       "\n",
       "   gross_margin_power_elect  net_margin_power_elect  number_active_products  \\\n",
       "0                 30.223492               27.328471                     3.0   \n",
       "1                 38.276871               34.610440                     1.0   \n",
       "2                 73.755271               66.690466                     3.0   \n",
       "3                 42.023714               37.998383                     1.0   \n",
       "4                 24.346702               22.014602                     2.0   \n",
       "\n",
       "   total_net_margin  customer_antiquity_in_years  \\\n",
       "0         37.220019                          6.0   \n",
       "1         17.946074                          4.0   \n",
       "2         57.147990                          6.0   \n",
       "3        105.174300                          4.0   \n",
       "4        185.465888                          4.0   \n",
       "\n",
       "     code_elect_campaign_first_subs  subscribed_power  Contract_length_(days)  \\\n",
       "0  kamkkxfxxuwbdslkwifmmcsiusiuosws         21.595285                  2557.0   \n",
       "1  lxidpiddsbxsbosboudacockeimpuepw         15.648757                  1827.0   \n",
       "2  kamkkxfxxuwbdslkwifmmcsiusiuosws         21.595285                  2327.0   \n",
       "3  lxidpiddsbxsbosboudacockeimpuepw         16.462493                  1461.0   \n",
       "4  lxidpiddsbxsbosboudacockeimpuepw         31.418949                  1531.0   \n",
       "\n",
       "   AVG_price_energy  AVG_price_power  \n",
       "0          1.133890       269.484186  \n",
       "1          0.539915       159.867773  \n",
       "2          1.387977       271.930898  \n",
       "3          0.536597       160.188472  \n",
       "4          1.109814       269.484186  \n",
       "\n",
       "[5 rows x 27 columns]"
      ]
     },
     "execution_count": 57,
     "metadata": {},
     "output_type": "execute_result"
    }
   ],
   "source": [
    "#DELETING DATES COLUMNS AND OTHER UNUSABLE ONES\n",
    "cols = [5,6,7,8,9]\n",
    "data.drop(data.columns[cols],axis=1,inplace=True)\n",
    "data.head(5)"
   ]
  },
  {
   "cell_type": "code",
   "execution_count": 58,
   "metadata": {},
   "outputs": [
    {
     "data": {
      "text/html": [
       "<div>\n",
       "<style scoped>\n",
       "    .dataframe tbody tr th:only-of-type {\n",
       "        vertical-align: middle;\n",
       "    }\n",
       "\n",
       "    .dataframe tbody tr th {\n",
       "        vertical-align: top;\n",
       "    }\n",
       "\n",
       "    .dataframe thead th {\n",
       "        text-align: right;\n",
       "    }\n",
       "</style>\n",
       "<table border=\"1\" class=\"dataframe\">\n",
       "  <thead>\n",
       "    <tr style=\"text-align: right;\">\n",
       "      <th></th>\n",
       "      <th>contract_id</th>\n",
       "      <th>Churning</th>\n",
       "      <th>elect_cons_at_12m</th>\n",
       "      <th>gas_cons_at_12m</th>\n",
       "      <th>elect_cons_last_month</th>\n",
       "      <th>fcst_consumption_elect_12m</th>\n",
       "      <th>fcst_consumption_elect_cal_year</th>\n",
       "      <th>fcst_current_discount</th>\n",
       "      <th>fcst_bill_meter_rent_12m</th>\n",
       "      <th>fcst_price_period_1</th>\n",
       "      <th>...</th>\n",
       "      <th>gross_margin_power_elect</th>\n",
       "      <th>net_margin_power_elect</th>\n",
       "      <th>number_active_products</th>\n",
       "      <th>total_net_margin</th>\n",
       "      <th>customer_antiquity_in_years</th>\n",
       "      <th>code_elect_campaign_first_subs</th>\n",
       "      <th>subscribed_power</th>\n",
       "      <th>Contract_length_(days)</th>\n",
       "      <th>AVG_price_energy</th>\n",
       "      <th>AVG_price_power</th>\n",
       "    </tr>\n",
       "  </thead>\n",
       "  <tbody>\n",
       "    <tr>\n",
       "      <th>0</th>\n",
       "      <td>6975aab29f35173b43eae4f595b747c7</td>\n",
       "      <td>0.0</td>\n",
       "      <td>12067.0</td>\n",
       "      <td>8723.0</td>\n",
       "      <td>303.0</td>\n",
       "      <td>395.464648</td>\n",
       "      <td>368.851331</td>\n",
       "      <td>0.000000</td>\n",
       "      <td>92.644973</td>\n",
       "      <td>0.144509</td>\n",
       "      <td>...</td>\n",
       "      <td>30.223492</td>\n",
       "      <td>27.328471</td>\n",
       "      <td>3.0</td>\n",
       "      <td>37.220019</td>\n",
       "      <td>6.0</td>\n",
       "      <td>kamkkxfxxuwbdslkwifmmcsiusiuosws</td>\n",
       "      <td>21.595285</td>\n",
       "      <td>2557.0</td>\n",
       "      <td>1.133890</td>\n",
       "      <td>269.484186</td>\n",
       "    </tr>\n",
       "    <tr>\n",
       "      <th>1</th>\n",
       "      <td>8073016b742f47cf4c76cc41dc410122</td>\n",
       "      <td>1.0</td>\n",
       "      <td>3183.0</td>\n",
       "      <td>0.0</td>\n",
       "      <td>406.0</td>\n",
       "      <td>228.789150</td>\n",
       "      <td>494.224444</td>\n",
       "      <td>0.000000</td>\n",
       "      <td>0.000000</td>\n",
       "      <td>0.181625</td>\n",
       "      <td>...</td>\n",
       "      <td>38.276871</td>\n",
       "      <td>34.610440</td>\n",
       "      <td>1.0</td>\n",
       "      <td>17.946074</td>\n",
       "      <td>4.0</td>\n",
       "      <td>lxidpiddsbxsbosboudacockeimpuepw</td>\n",
       "      <td>15.648757</td>\n",
       "      <td>1827.0</td>\n",
       "      <td>0.539915</td>\n",
       "      <td>159.867773</td>\n",
       "    </tr>\n",
       "    <tr>\n",
       "      <th>2</th>\n",
       "      <td>227c0e6b15256a1d3d3460e15c24ba60</td>\n",
       "      <td>0.0</td>\n",
       "      <td>18464.0</td>\n",
       "      <td>26847.0</td>\n",
       "      <td>1534.0</td>\n",
       "      <td>1096.439754</td>\n",
       "      <td>1863.335174</td>\n",
       "      <td>15.460479</td>\n",
       "      <td>90.524018</td>\n",
       "      <td>0.204192</td>\n",
       "      <td>...</td>\n",
       "      <td>73.755271</td>\n",
       "      <td>66.690466</td>\n",
       "      <td>3.0</td>\n",
       "      <td>57.147990</td>\n",
       "      <td>6.0</td>\n",
       "      <td>kamkkxfxxuwbdslkwifmmcsiusiuosws</td>\n",
       "      <td>21.595285</td>\n",
       "      <td>2327.0</td>\n",
       "      <td>1.387977</td>\n",
       "      <td>271.930898</td>\n",
       "    </tr>\n",
       "    <tr>\n",
       "      <th>3</th>\n",
       "      <td>e1ea0597bbad7bfd95adf1c7103bfda1</td>\n",
       "      <td>0.0</td>\n",
       "      <td>17743.0</td>\n",
       "      <td>0.0</td>\n",
       "      <td>0.0</td>\n",
       "      <td>1270.888652</td>\n",
       "      <td>0.000000</td>\n",
       "      <td>0.000000</td>\n",
       "      <td>12.691187</td>\n",
       "      <td>0.181764</td>\n",
       "      <td>...</td>\n",
       "      <td>42.023714</td>\n",
       "      <td>37.998383</td>\n",
       "      <td>1.0</td>\n",
       "      <td>105.174300</td>\n",
       "      <td>4.0</td>\n",
       "      <td>lxidpiddsbxsbosboudacockeimpuepw</td>\n",
       "      <td>16.462493</td>\n",
       "      <td>1461.0</td>\n",
       "      <td>0.536597</td>\n",
       "      <td>160.188472</td>\n",
       "    </tr>\n",
       "    <tr>\n",
       "      <th>4</th>\n",
       "      <td>a2e017f297f2557a7b1cf4a92bc993e9</td>\n",
       "      <td>0.0</td>\n",
       "      <td>42537.0</td>\n",
       "      <td>7606.0</td>\n",
       "      <td>3873.0</td>\n",
       "      <td>2006.504608</td>\n",
       "      <td>4703.308727</td>\n",
       "      <td>0.000000</td>\n",
       "      <td>90.275306</td>\n",
       "      <td>0.142310</td>\n",
       "      <td>...</td>\n",
       "      <td>24.346702</td>\n",
       "      <td>22.014602</td>\n",
       "      <td>2.0</td>\n",
       "      <td>185.465888</td>\n",
       "      <td>4.0</td>\n",
       "      <td>lxidpiddsbxsbosboudacockeimpuepw</td>\n",
       "      <td>31.418949</td>\n",
       "      <td>1531.0</td>\n",
       "      <td>1.109814</td>\n",
       "      <td>269.484186</td>\n",
       "    </tr>\n",
       "  </tbody>\n",
       "</table>\n",
       "<p>5 rows × 24 columns</p>\n",
       "</div>"
      ],
      "text/plain": [
       "                        contract_id  Churning  elect_cons_at_12m  \\\n",
       "0  6975aab29f35173b43eae4f595b747c7       0.0            12067.0   \n",
       "1  8073016b742f47cf4c76cc41dc410122       1.0             3183.0   \n",
       "2  227c0e6b15256a1d3d3460e15c24ba60       0.0            18464.0   \n",
       "3  e1ea0597bbad7bfd95adf1c7103bfda1       0.0            17743.0   \n",
       "4  a2e017f297f2557a7b1cf4a92bc993e9       0.0            42537.0   \n",
       "\n",
       "   gas_cons_at_12m  elect_cons_last_month  fcst_consumption_elect_12m  \\\n",
       "0           8723.0                  303.0                  395.464648   \n",
       "1              0.0                  406.0                  228.789150   \n",
       "2          26847.0                 1534.0                 1096.439754   \n",
       "3              0.0                    0.0                 1270.888652   \n",
       "4           7606.0                 3873.0                 2006.504608   \n",
       "\n",
       "   fcst_consumption_elect_cal_year  fcst_current_discount  \\\n",
       "0                       368.851331               0.000000   \n",
       "1                       494.224444               0.000000   \n",
       "2                      1863.335174              15.460479   \n",
       "3                         0.000000               0.000000   \n",
       "4                      4703.308727               0.000000   \n",
       "\n",
       "   fcst_bill_meter_rent_12m  fcst_price_period_1  ...  \\\n",
       "0                 92.644973             0.144509  ...   \n",
       "1                  0.000000             0.181625  ...   \n",
       "2                 90.524018             0.204192  ...   \n",
       "3                 12.691187             0.181764  ...   \n",
       "4                 90.275306             0.142310  ...   \n",
       "\n",
       "   gross_margin_power_elect  net_margin_power_elect number_active_products  \\\n",
       "0                 30.223492               27.328471                    3.0   \n",
       "1                 38.276871               34.610440                    1.0   \n",
       "2                 73.755271               66.690466                    3.0   \n",
       "3                 42.023714               37.998383                    1.0   \n",
       "4                 24.346702               22.014602                    2.0   \n",
       "\n",
       "   total_net_margin  customer_antiquity_in_years  \\\n",
       "0         37.220019                          6.0   \n",
       "1         17.946074                          4.0   \n",
       "2         57.147990                          6.0   \n",
       "3        105.174300                          4.0   \n",
       "4        185.465888                          4.0   \n",
       "\n",
       "     code_elect_campaign_first_subs  subscribed_power  Contract_length_(days)  \\\n",
       "0  kamkkxfxxuwbdslkwifmmcsiusiuosws         21.595285                  2557.0   \n",
       "1  lxidpiddsbxsbosboudacockeimpuepw         15.648757                  1827.0   \n",
       "2  kamkkxfxxuwbdslkwifmmcsiusiuosws         21.595285                  2327.0   \n",
       "3  lxidpiddsbxsbosboudacockeimpuepw         16.462493                  1461.0   \n",
       "4  lxidpiddsbxsbosboudacockeimpuepw         31.418949                  1531.0   \n",
       "\n",
       "   AVG_price_energy AVG_price_power  \n",
       "0          1.133890      269.484186  \n",
       "1          0.539915      159.867773  \n",
       "2          1.387977      271.930898  \n",
       "3          0.536597      160.188472  \n",
       "4          1.109814      269.484186  \n",
       "\n",
       "[5 rows x 24 columns]"
      ]
     },
     "execution_count": 58,
     "metadata": {},
     "output_type": "execute_result"
    }
   ],
   "source": [
    "cols = [5,6,7]\n",
    "data.drop(data.columns[cols],axis=1,inplace=True)\n",
    "data.head(5)"
   ]
  },
  {
   "cell_type": "code",
   "execution_count": 59,
   "metadata": {
    "collapsed": true
   },
   "outputs": [],
   "source": [
    "#DROPPING LAST NULL ROWS\n",
    "data = data[data['fcst_current_discount'].notna()]\n",
    "data = data[data['gross_margin_power_elect'].notna()]\n",
    "data = data[data['total_net_margin'].notna()]\n",
    "data = data[data['code_elect_campaign_first_subs'].notna()]"
   ]
  },
  {
   "cell_type": "code",
   "execution_count": 60,
   "metadata": {},
   "outputs": [
    {
     "data": {
      "text/html": [
       "<div>\n",
       "<style scoped>\n",
       "    .dataframe tbody tr th:only-of-type {\n",
       "        vertical-align: middle;\n",
       "    }\n",
       "\n",
       "    .dataframe tbody tr th {\n",
       "        vertical-align: top;\n",
       "    }\n",
       "\n",
       "    .dataframe thead th {\n",
       "        text-align: right;\n",
       "    }\n",
       "</style>\n",
       "<table border=\"1\" class=\"dataframe\">\n",
       "  <thead>\n",
       "    <tr style=\"text-align: right;\">\n",
       "      <th></th>\n",
       "    </tr>\n",
       "  </thead>\n",
       "  <tbody>\n",
       "    <tr>\n",
       "      <th>0</th>\n",
       "    </tr>\n",
       "    <tr>\n",
       "      <th>1</th>\n",
       "    </tr>\n",
       "    <tr>\n",
       "      <th>2</th>\n",
       "    </tr>\n",
       "    <tr>\n",
       "      <th>3</th>\n",
       "    </tr>\n",
       "    <tr>\n",
       "      <th>4</th>\n",
       "    </tr>\n",
       "    <tr>\n",
       "      <th>...</th>\n",
       "    </tr>\n",
       "    <tr>\n",
       "      <th>16089</th>\n",
       "    </tr>\n",
       "    <tr>\n",
       "      <th>16090</th>\n",
       "    </tr>\n",
       "    <tr>\n",
       "      <th>16091</th>\n",
       "    </tr>\n",
       "    <tr>\n",
       "      <th>16092</th>\n",
       "    </tr>\n",
       "    <tr>\n",
       "      <th>16093</th>\n",
       "    </tr>\n",
       "  </tbody>\n",
       "</table>\n",
       "<p>15867 rows × 0 columns</p>\n",
       "</div>"
      ],
      "text/plain": [
       "Empty DataFrame\n",
       "Columns: []\n",
       "Index: [0, 1, 2, 3, 4, 5, 6, 7, 8, 9, 10, 11, 12, 13, 15, 16, 17, 18, 19, 20, 21, 22, 23, 24, 25, 26, 27, 28, 29, 30, 31, 32, 33, 34, 35, 36, 37, 38, 40, 41, 42, 43, 44, 45, 46, 47, 48, 49, 50, 51, 52, 53, 54, 55, 56, 58, 59, 60, 61, 62, 63, 64, 65, 66, 67, 68, 69, 70, 71, 72, 73, 74, 75, 76, 77, 78, 79, 80, 81, 82, 83, 84, 85, 86, 87, 88, 89, 90, 91, 92, 93, 94, 95, 96, 97, 98, 99, 100, 101, 102, ...]\n",
       "\n",
       "[15867 rows x 0 columns]"
      ]
     },
     "execution_count": 60,
     "metadata": {},
     "output_type": "execute_result"
    }
   ],
   "source": [
    "#Look at all columns with containing null values\n",
    "data.loc[:, data.isna().any()]"
   ]
  },
  {
   "cell_type": "code",
   "execution_count": 61,
   "metadata": {
    "collapsed": true
   },
   "outputs": [],
   "source": [
    "#CONVERTING client_got_gas INTO 0s and 1s\n",
    "data.loc[data.client_got_gas=='f','client_got_gas']=0\n",
    "data.loc[data.client_got_gas=='t','client_got_gas']=1\n",
    "\n",
    "data['client_got_gas']=data['client_got_gas'].astype(float)"
   ]
  },
  {
   "cell_type": "code",
   "execution_count": 62,
   "metadata": {},
   "outputs": [
    {
     "data": {
      "text/plain": [
       "contract_id                         object\n",
       "Churning                           float64\n",
       "elect_cons_at_12m                  float64\n",
       "gas_cons_at_12m                    float64\n",
       "elect_cons_last_month              float64\n",
       "fcst_consumption_elect_12m         float64\n",
       "fcst_consumption_elect_cal_year    float64\n",
       "fcst_current_discount              float64\n",
       "fcst_bill_meter_rent_12m           float64\n",
       "fcst_price_period_1                float64\n",
       "fcst_price_period_2                float64\n",
       "fcst_price_power_period_1          float64\n",
       "client_got_gas                     float64\n",
       "current_paid_consumption           float64\n",
       "gross_margin_power_elect           float64\n",
       "net_margin_power_elect             float64\n",
       "number_active_products             float64\n",
       "total_net_margin                   float64\n",
       "customer_antiquity_in_years        float64\n",
       "code_elect_campaign_first_subs      object\n",
       "subscribed_power                   float64\n",
       "Contract_length_(days)             float64\n",
       "AVG_price_energy                   float64\n",
       "AVG_price_power                    float64\n",
       "dtype: object"
      ]
     },
     "execution_count": 62,
     "metadata": {},
     "output_type": "execute_result"
    }
   ],
   "source": [
    "data.dtypes"
   ]
  },
  {
   "cell_type": "code",
   "execution_count": 63,
   "metadata": {},
   "outputs": [
    {
     "data": {
      "text/plain": [
       "array(['kamkkxfxxuwbdslkwifmmcsiusiuosws',\n",
       "       'lxidpiddsbxsbosboudacockeimpuepw',\n",
       "       'ldkssxwpmemidmecebumciepifcamkci',\n",
       "       'usapbepcfoloekilkwsdiboslwaxobdp',\n",
       "       'ewxeelcelemmiwuafmddpobolfuxioce'], dtype=object)"
      ]
     },
     "execution_count": 63,
     "metadata": {},
     "output_type": "execute_result"
    }
   ],
   "source": [
    "data.code_elect_campaign_first_subs.unique()"
   ]
  },
  {
   "cell_type": "code",
   "execution_count": 64,
   "metadata": {},
   "outputs": [
    {
     "data": {
      "text/html": [
       "<div>\n",
       "<style scoped>\n",
       "    .dataframe tbody tr th:only-of-type {\n",
       "        vertical-align: middle;\n",
       "    }\n",
       "\n",
       "    .dataframe tbody tr th {\n",
       "        vertical-align: top;\n",
       "    }\n",
       "\n",
       "    .dataframe thead th {\n",
       "        text-align: right;\n",
       "    }\n",
       "</style>\n",
       "<table border=\"1\" class=\"dataframe\">\n",
       "  <thead>\n",
       "    <tr style=\"text-align: right;\">\n",
       "      <th></th>\n",
       "      <th>contract_id</th>\n",
       "      <th>Churning</th>\n",
       "      <th>elect_cons_at_12m</th>\n",
       "      <th>gas_cons_at_12m</th>\n",
       "      <th>elect_cons_last_month</th>\n",
       "      <th>fcst_consumption_elect_12m</th>\n",
       "      <th>fcst_consumption_elect_cal_year</th>\n",
       "      <th>fcst_current_discount</th>\n",
       "      <th>fcst_bill_meter_rent_12m</th>\n",
       "      <th>fcst_price_period_1</th>\n",
       "      <th>...</th>\n",
       "      <th>total_net_margin</th>\n",
       "      <th>customer_antiquity_in_years</th>\n",
       "      <th>subscribed_power</th>\n",
       "      <th>Contract_length_(days)</th>\n",
       "      <th>AVG_price_energy</th>\n",
       "      <th>AVG_price_power</th>\n",
       "      <th>code_elect_campaign_first_subs_kamkkxfxxuwbdslkwifmmcsiusiuosws</th>\n",
       "      <th>code_elect_campaign_first_subs_ldkssxwpmemidmecebumciepifcamkci</th>\n",
       "      <th>code_elect_campaign_first_subs_lxidpiddsbxsbosboudacockeimpuepw</th>\n",
       "      <th>code_elect_campaign_first_subs_usapbepcfoloekilkwsdiboslwaxobdp</th>\n",
       "    </tr>\n",
       "  </thead>\n",
       "  <tbody>\n",
       "    <tr>\n",
       "      <th>0</th>\n",
       "      <td>6975aab29f35173b43eae4f595b747c7</td>\n",
       "      <td>0.0</td>\n",
       "      <td>12067.0</td>\n",
       "      <td>8723.0</td>\n",
       "      <td>303.0</td>\n",
       "      <td>395.464648</td>\n",
       "      <td>368.851331</td>\n",
       "      <td>0.0</td>\n",
       "      <td>92.644973</td>\n",
       "      <td>0.144509</td>\n",
       "      <td>...</td>\n",
       "      <td>37.220019</td>\n",
       "      <td>6.0</td>\n",
       "      <td>21.595285</td>\n",
       "      <td>2557.0</td>\n",
       "      <td>1.133890</td>\n",
       "      <td>269.484186</td>\n",
       "      <td>1</td>\n",
       "      <td>0</td>\n",
       "      <td>0</td>\n",
       "      <td>0</td>\n",
       "    </tr>\n",
       "    <tr>\n",
       "      <th>1</th>\n",
       "      <td>8073016b742f47cf4c76cc41dc410122</td>\n",
       "      <td>1.0</td>\n",
       "      <td>3183.0</td>\n",
       "      <td>0.0</td>\n",
       "      <td>406.0</td>\n",
       "      <td>228.789150</td>\n",
       "      <td>494.224444</td>\n",
       "      <td>0.0</td>\n",
       "      <td>0.000000</td>\n",
       "      <td>0.181625</td>\n",
       "      <td>...</td>\n",
       "      <td>17.946074</td>\n",
       "      <td>4.0</td>\n",
       "      <td>15.648757</td>\n",
       "      <td>1827.0</td>\n",
       "      <td>0.539915</td>\n",
       "      <td>159.867773</td>\n",
       "      <td>0</td>\n",
       "      <td>0</td>\n",
       "      <td>1</td>\n",
       "      <td>0</td>\n",
       "    </tr>\n",
       "  </tbody>\n",
       "</table>\n",
       "<p>2 rows × 27 columns</p>\n",
       "</div>"
      ],
      "text/plain": [
       "                        contract_id  Churning  elect_cons_at_12m  \\\n",
       "0  6975aab29f35173b43eae4f595b747c7       0.0            12067.0   \n",
       "1  8073016b742f47cf4c76cc41dc410122       1.0             3183.0   \n",
       "\n",
       "   gas_cons_at_12m  elect_cons_last_month  fcst_consumption_elect_12m  \\\n",
       "0           8723.0                  303.0                  395.464648   \n",
       "1              0.0                  406.0                  228.789150   \n",
       "\n",
       "   fcst_consumption_elect_cal_year  fcst_current_discount  \\\n",
       "0                       368.851331                    0.0   \n",
       "1                       494.224444                    0.0   \n",
       "\n",
       "   fcst_bill_meter_rent_12m  fcst_price_period_1  ...  total_net_margin  \\\n",
       "0                 92.644973             0.144509  ...         37.220019   \n",
       "1                  0.000000             0.181625  ...         17.946074   \n",
       "\n",
       "   customer_antiquity_in_years  subscribed_power  Contract_length_(days)  \\\n",
       "0                          6.0         21.595285                  2557.0   \n",
       "1                          4.0         15.648757                  1827.0   \n",
       "\n",
       "   AVG_price_energy  AVG_price_power  \\\n",
       "0          1.133890       269.484186   \n",
       "1          0.539915       159.867773   \n",
       "\n",
       "   code_elect_campaign_first_subs_kamkkxfxxuwbdslkwifmmcsiusiuosws  \\\n",
       "0                                                  1                 \n",
       "1                                                  0                 \n",
       "\n",
       "   code_elect_campaign_first_subs_ldkssxwpmemidmecebumciepifcamkci  \\\n",
       "0                                                  0                 \n",
       "1                                                  0                 \n",
       "\n",
       "   code_elect_campaign_first_subs_lxidpiddsbxsbosboudacockeimpuepw  \\\n",
       "0                                                  0                 \n",
       "1                                                  1                 \n",
       "\n",
       "   code_elect_campaign_first_subs_usapbepcfoloekilkwsdiboslwaxobdp  \n",
       "0                                                  0                \n",
       "1                                                  0                \n",
       "\n",
       "[2 rows x 27 columns]"
      ]
     },
     "execution_count": 64,
     "metadata": {},
     "output_type": "execute_result"
    }
   ],
   "source": [
    "#PERFORMING HOT ENCODING USING DUMMIES METHOD ON code_elect_campaign_first_subs\n",
    "data = pd.get_dummies(data, columns=['code_elect_campaign_first_subs'],drop_first=True)\n",
    "data.head(2)"
   ]
  },
  {
   "cell_type": "code",
   "execution_count": 65,
   "metadata": {
    "collapsed": true
   },
   "outputs": [],
   "source": [
    "#EXPORT THE FINAL DATASET FOR MODELING\n",
    "data.to_csv('TrainingData.csv', index=False)"
   ]
  },
  {
   "cell_type": "code",
   "execution_count": null,
   "metadata": {
    "collapsed": true
   },
   "outputs": [],
   "source": []
  }
 ],
 "metadata": {
  "kernelspec": {
   "display_name": "Python 3",
   "language": "python",
   "name": "python3"
  },
  "language_info": {
   "codemirror_mode": {
    "name": "ipython",
    "version": 3
   },
   "file_extension": ".py",
   "mimetype": "text/x-python",
   "name": "python",
   "nbconvert_exporter": "python",
   "pygments_lexer": "ipython3",
   "version": "3.6.3"
  }
 },
 "nbformat": 4,
 "nbformat_minor": 2
}
