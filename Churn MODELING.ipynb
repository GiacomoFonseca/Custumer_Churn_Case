{
 "cells": [
  {
   "cell_type": "code",
   "execution_count": 48,
   "metadata": {},
   "outputs": [
    {
     "name": "stdout",
     "output_type": "stream",
     "text": [
      "Populating the interactive namespace from numpy and matplotlib\n"
     ]
    }
   ],
   "source": [
    "import pandas as pd\n",
    "import numpy as np\n",
    "import matplotlib.pyplot as plt\n",
    "%pylab inline\n",
    "import seaborn as sb\n",
    "pd.set_option('display.max_rows',10)"
   ]
  },
  {
   "cell_type": "markdown",
   "metadata": {},
   "source": [
    "## Import the final training dataset"
   ]
  },
  {
   "cell_type": "code",
   "execution_count": 4,
   "metadata": {},
   "outputs": [
    {
     "data": {
      "text/html": [
       "<div>\n",
       "<style scoped>\n",
       "    .dataframe tbody tr th:only-of-type {\n",
       "        vertical-align: middle;\n",
       "    }\n",
       "\n",
       "    .dataframe tbody tr th {\n",
       "        vertical-align: top;\n",
       "    }\n",
       "\n",
       "    .dataframe thead th {\n",
       "        text-align: right;\n",
       "    }\n",
       "</style>\n",
       "<table border=\"1\" class=\"dataframe\">\n",
       "  <thead>\n",
       "    <tr style=\"text-align: right;\">\n",
       "      <th></th>\n",
       "      <th>contract_id</th>\n",
       "      <th>Churning</th>\n",
       "      <th>elect_cons_at_12m</th>\n",
       "      <th>gas_cons_at_12m</th>\n",
       "      <th>elect_cons_last_month</th>\n",
       "      <th>fcst_consumption_elect_12m</th>\n",
       "      <th>fcst_consumption_elect_cal_year</th>\n",
       "      <th>fcst_current_discount</th>\n",
       "      <th>fcst_bill_meter_rent_12m</th>\n",
       "      <th>fcst_price_period_1</th>\n",
       "      <th>fcst_price_period_2</th>\n",
       "      <th>fcst_price_power_period_1</th>\n",
       "      <th>client_got_gas</th>\n",
       "      <th>current_paid_consumption</th>\n",
       "      <th>gross_margin_power_elect</th>\n",
       "      <th>net_margin_power_elect</th>\n",
       "      <th>number_active_products</th>\n",
       "      <th>total_net_margin</th>\n",
       "      <th>customer_antiquity_in_years</th>\n",
       "      <th>subscribed_power</th>\n",
       "      <th>Contract_length_(days)</th>\n",
       "      <th>AVG_price_energy</th>\n",
       "      <th>AVG_price_power</th>\n",
       "      <th>code_elect_campaign_first_subs_kamkkxfxxuwbdslkwifmmcsiusiuosws</th>\n",
       "      <th>code_elect_campaign_first_subs_ldkssxwpmemidmecebumciepifcamkci</th>\n",
       "      <th>code_elect_campaign_first_subs_lxidpiddsbxsbosboudacockeimpuepw</th>\n",
       "      <th>code_elect_campaign_first_subs_usapbepcfoloekilkwsdiboslwaxobdp</th>\n",
       "    </tr>\n",
       "  </thead>\n",
       "  <tbody>\n",
       "    <tr>\n",
       "      <th>0</th>\n",
       "      <td>6975aab29f35173b43eae4f595b747c7</td>\n",
       "      <td>0.0</td>\n",
       "      <td>12067.0</td>\n",
       "      <td>8723.0</td>\n",
       "      <td>303.0</td>\n",
       "      <td>395.464648</td>\n",
       "      <td>368.851331</td>\n",
       "      <td>0.000000</td>\n",
       "      <td>92.644973</td>\n",
       "      <td>0.144509</td>\n",
       "      <td>0.050364</td>\n",
       "      <td>27.257522</td>\n",
       "      <td>1.0</td>\n",
       "      <td>27.027749</td>\n",
       "      <td>30.223492</td>\n",
       "      <td>27.328471</td>\n",
       "      <td>3.0</td>\n",
       "      <td>37.220019</td>\n",
       "      <td>6.0</td>\n",
       "      <td>21.595285</td>\n",
       "      <td>2557.0</td>\n",
       "      <td>1.133890</td>\n",
       "      <td>269.484186</td>\n",
       "      <td>1</td>\n",
       "      <td>0</td>\n",
       "      <td>0</td>\n",
       "      <td>0</td>\n",
       "    </tr>\n",
       "    <tr>\n",
       "      <th>1</th>\n",
       "      <td>8073016b742f47cf4c76cc41dc410122</td>\n",
       "      <td>1.0</td>\n",
       "      <td>3183.0</td>\n",
       "      <td>0.0</td>\n",
       "      <td>406.0</td>\n",
       "      <td>228.789150</td>\n",
       "      <td>494.224444</td>\n",
       "      <td>0.000000</td>\n",
       "      <td>0.000000</td>\n",
       "      <td>0.181625</td>\n",
       "      <td>0.000000</td>\n",
       "      <td>31.082797</td>\n",
       "      <td>0.0</td>\n",
       "      <td>54.699675</td>\n",
       "      <td>38.276871</td>\n",
       "      <td>34.610440</td>\n",
       "      <td>1.0</td>\n",
       "      <td>17.946074</td>\n",
       "      <td>4.0</td>\n",
       "      <td>15.648757</td>\n",
       "      <td>1827.0</td>\n",
       "      <td>0.539915</td>\n",
       "      <td>159.867773</td>\n",
       "      <td>0</td>\n",
       "      <td>0</td>\n",
       "      <td>1</td>\n",
       "      <td>0</td>\n",
       "    </tr>\n",
       "    <tr>\n",
       "      <th>2</th>\n",
       "      <td>227c0e6b15256a1d3d3460e15c24ba60</td>\n",
       "      <td>0.0</td>\n",
       "      <td>18464.0</td>\n",
       "      <td>26847.0</td>\n",
       "      <td>1534.0</td>\n",
       "      <td>1096.439754</td>\n",
       "      <td>1863.335174</td>\n",
       "      <td>15.460479</td>\n",
       "      <td>90.524018</td>\n",
       "      <td>0.204192</td>\n",
       "      <td>0.069878</td>\n",
       "      <td>27.592143</td>\n",
       "      <td>1.0</td>\n",
       "      <td>190.565716</td>\n",
       "      <td>73.755271</td>\n",
       "      <td>66.690466</td>\n",
       "      <td>3.0</td>\n",
       "      <td>57.147990</td>\n",
       "      <td>6.0</td>\n",
       "      <td>21.595285</td>\n",
       "      <td>2327.0</td>\n",
       "      <td>1.387977</td>\n",
       "      <td>271.930898</td>\n",
       "      <td>1</td>\n",
       "      <td>0</td>\n",
       "      <td>0</td>\n",
       "      <td>0</td>\n",
       "    </tr>\n",
       "    <tr>\n",
       "      <th>3</th>\n",
       "      <td>e1ea0597bbad7bfd95adf1c7103bfda1</td>\n",
       "      <td>0.0</td>\n",
       "      <td>17743.0</td>\n",
       "      <td>0.0</td>\n",
       "      <td>0.0</td>\n",
       "      <td>1270.888652</td>\n",
       "      <td>0.000000</td>\n",
       "      <td>0.000000</td>\n",
       "      <td>12.691187</td>\n",
       "      <td>0.181764</td>\n",
       "      <td>0.000000</td>\n",
       "      <td>29.744311</td>\n",
       "      <td>0.0</td>\n",
       "      <td>0.000000</td>\n",
       "      <td>42.023714</td>\n",
       "      <td>37.998383</td>\n",
       "      <td>1.0</td>\n",
       "      <td>105.174300</td>\n",
       "      <td>4.0</td>\n",
       "      <td>16.462493</td>\n",
       "      <td>1461.0</td>\n",
       "      <td>0.536597</td>\n",
       "      <td>160.188472</td>\n",
       "      <td>0</td>\n",
       "      <td>0</td>\n",
       "      <td>1</td>\n",
       "      <td>0</td>\n",
       "    </tr>\n",
       "    <tr>\n",
       "      <th>4</th>\n",
       "      <td>a2e017f297f2557a7b1cf4a92bc993e9</td>\n",
       "      <td>0.0</td>\n",
       "      <td>42537.0</td>\n",
       "      <td>7606.0</td>\n",
       "      <td>3873.0</td>\n",
       "      <td>2006.504608</td>\n",
       "      <td>4703.308727</td>\n",
       "      <td>0.000000</td>\n",
       "      <td>90.275306</td>\n",
       "      <td>0.142310</td>\n",
       "      <td>0.049471</td>\n",
       "      <td>27.257522</td>\n",
       "      <td>1.0</td>\n",
       "      <td>344.787353</td>\n",
       "      <td>24.346702</td>\n",
       "      <td>22.014602</td>\n",
       "      <td>2.0</td>\n",
       "      <td>185.465888</td>\n",
       "      <td>4.0</td>\n",
       "      <td>31.418949</td>\n",
       "      <td>1531.0</td>\n",
       "      <td>1.109814</td>\n",
       "      <td>269.484186</td>\n",
       "      <td>0</td>\n",
       "      <td>0</td>\n",
       "      <td>1</td>\n",
       "      <td>0</td>\n",
       "    </tr>\n",
       "  </tbody>\n",
       "</table>\n",
       "</div>"
      ],
      "text/plain": [
       "                        contract_id  Churning  elect_cons_at_12m  \\\n",
       "0  6975aab29f35173b43eae4f595b747c7       0.0            12067.0   \n",
       "1  8073016b742f47cf4c76cc41dc410122       1.0             3183.0   \n",
       "2  227c0e6b15256a1d3d3460e15c24ba60       0.0            18464.0   \n",
       "3  e1ea0597bbad7bfd95adf1c7103bfda1       0.0            17743.0   \n",
       "4  a2e017f297f2557a7b1cf4a92bc993e9       0.0            42537.0   \n",
       "\n",
       "   gas_cons_at_12m  elect_cons_last_month  fcst_consumption_elect_12m  \\\n",
       "0           8723.0                  303.0                  395.464648   \n",
       "1              0.0                  406.0                  228.789150   \n",
       "2          26847.0                 1534.0                 1096.439754   \n",
       "3              0.0                    0.0                 1270.888652   \n",
       "4           7606.0                 3873.0                 2006.504608   \n",
       "\n",
       "   fcst_consumption_elect_cal_year  fcst_current_discount  \\\n",
       "0                       368.851331               0.000000   \n",
       "1                       494.224444               0.000000   \n",
       "2                      1863.335174              15.460479   \n",
       "3                         0.000000               0.000000   \n",
       "4                      4703.308727               0.000000   \n",
       "\n",
       "   fcst_bill_meter_rent_12m  fcst_price_period_1  fcst_price_period_2  \\\n",
       "0                 92.644973             0.144509             0.050364   \n",
       "1                  0.000000             0.181625             0.000000   \n",
       "2                 90.524018             0.204192             0.069878   \n",
       "3                 12.691187             0.181764             0.000000   \n",
       "4                 90.275306             0.142310             0.049471   \n",
       "\n",
       "   fcst_price_power_period_1  client_got_gas  current_paid_consumption  \\\n",
       "0                  27.257522             1.0                 27.027749   \n",
       "1                  31.082797             0.0                 54.699675   \n",
       "2                  27.592143             1.0                190.565716   \n",
       "3                  29.744311             0.0                  0.000000   \n",
       "4                  27.257522             1.0                344.787353   \n",
       "\n",
       "   gross_margin_power_elect  net_margin_power_elect  number_active_products  \\\n",
       "0                 30.223492               27.328471                     3.0   \n",
       "1                 38.276871               34.610440                     1.0   \n",
       "2                 73.755271               66.690466                     3.0   \n",
       "3                 42.023714               37.998383                     1.0   \n",
       "4                 24.346702               22.014602                     2.0   \n",
       "\n",
       "   total_net_margin  customer_antiquity_in_years  subscribed_power  \\\n",
       "0         37.220019                          6.0         21.595285   \n",
       "1         17.946074                          4.0         15.648757   \n",
       "2         57.147990                          6.0         21.595285   \n",
       "3        105.174300                          4.0         16.462493   \n",
       "4        185.465888                          4.0         31.418949   \n",
       "\n",
       "   Contract_length_(days)  AVG_price_energy  AVG_price_power  \\\n",
       "0                  2557.0          1.133890       269.484186   \n",
       "1                  1827.0          0.539915       159.867773   \n",
       "2                  2327.0          1.387977       271.930898   \n",
       "3                  1461.0          0.536597       160.188472   \n",
       "4                  1531.0          1.109814       269.484186   \n",
       "\n",
       "   code_elect_campaign_first_subs_kamkkxfxxuwbdslkwifmmcsiusiuosws  \\\n",
       "0                                                  1                 \n",
       "1                                                  0                 \n",
       "2                                                  1                 \n",
       "3                                                  0                 \n",
       "4                                                  0                 \n",
       "\n",
       "   code_elect_campaign_first_subs_ldkssxwpmemidmecebumciepifcamkci  \\\n",
       "0                                                  0                 \n",
       "1                                                  0                 \n",
       "2                                                  0                 \n",
       "3                                                  0                 \n",
       "4                                                  0                 \n",
       "\n",
       "   code_elect_campaign_first_subs_lxidpiddsbxsbosboudacockeimpuepw  \\\n",
       "0                                                  0                 \n",
       "1                                                  1                 \n",
       "2                                                  0                 \n",
       "3                                                  1                 \n",
       "4                                                  1                 \n",
       "\n",
       "   code_elect_campaign_first_subs_usapbepcfoloekilkwsdiboslwaxobdp  \n",
       "0                                                  0                \n",
       "1                                                  0                \n",
       "2                                                  0                \n",
       "3                                                  0                \n",
       "4                                                  0                "
      ]
     },
     "execution_count": 4,
     "metadata": {},
     "output_type": "execute_result"
    }
   ],
   "source": [
    "TrainingData = pd.read_csv('TrainingData.csv')\n",
    "pd.options.display.max_columns = None\n",
    "TrainingData.head()"
   ]
  },
  {
   "cell_type": "code",
   "execution_count": 5,
   "metadata": {},
   "outputs": [
    {
     "data": {
      "text/plain": [
       "(15867, 27)"
      ]
     },
     "execution_count": 5,
     "metadata": {},
     "output_type": "execute_result"
    }
   ],
   "source": [
    "TrainingData.shape"
   ]
  },
  {
   "cell_type": "code",
   "execution_count": 6,
   "metadata": {},
   "outputs": [
    {
     "data": {
      "text/plain": [
       "contract_id                                                         object\n",
       "Churning                                                           float64\n",
       "elect_cons_at_12m                                                  float64\n",
       "gas_cons_at_12m                                                    float64\n",
       "elect_cons_last_month                                              float64\n",
       "                                                                    ...   \n",
       "AVG_price_power                                                    float64\n",
       "code_elect_campaign_first_subs_kamkkxfxxuwbdslkwifmmcsiusiuosws      int64\n",
       "code_elect_campaign_first_subs_ldkssxwpmemidmecebumciepifcamkci      int64\n",
       "code_elect_campaign_first_subs_lxidpiddsbxsbosboudacockeimpuepw      int64\n",
       "code_elect_campaign_first_subs_usapbepcfoloekilkwsdiboslwaxobdp      int64\n",
       "Length: 27, dtype: object"
      ]
     },
     "execution_count": 6,
     "metadata": {},
     "output_type": "execute_result"
    }
   ],
   "source": [
    "TrainingData.dtypes"
   ]
  },
  {
   "cell_type": "markdown",
   "metadata": {},
   "source": [
    "### Feature Scaling"
   ]
  },
  {
   "cell_type": "code",
   "execution_count": 7,
   "metadata": {
    "collapsed": true
   },
   "outputs": [],
   "source": [
    "#Perform Feature Scaling and One Hot Encoding\n",
    "from sklearn.preprocessing import MinMaxScaler\n",
    "\n",
    "#Perform Feature Scaling on some of the columns in order to bring them on same scale\n",
    "Scaler = MinMaxScaler()\n",
    "columns_for_ft_scaling = ['elect_cons_at_12m', 'gas_cons_at_12m', 'elect_cons_last_month','fcst_consumption_elect_12m',\n",
    "                         'fcst_consumption_elect_cal_year','fcst_current_discount','fcst_bill_meter_rent_12m','fcst_price_period_1','fcst_price_period_2',\n",
    "                         'fcst_price_power_period_1','current_paid_consumption','gross_margin_power_elect','net_margin_power_elect',\n",
    "                         'number_active_products','total_net_margin','customer_antiquity_in_years','subscribed_power',\n",
    "                         'Contract_length_(days)','AVG_price_energy','AVG_price_power']\n",
    "\n",
    "#Apply the feature scaling operation on dataset using fit_transform() method\n",
    "TrainingData[columns_for_ft_scaling] = Scaler.fit_transform(TrainingData[columns_for_ft_scaling])"
   ]
  },
  {
   "cell_type": "code",
   "execution_count": 8,
   "metadata": {
    "scrolled": true
   },
   "outputs": [
    {
     "data": {
      "text/html": [
       "<div>\n",
       "<style scoped>\n",
       "    .dataframe tbody tr th:only-of-type {\n",
       "        vertical-align: middle;\n",
       "    }\n",
       "\n",
       "    .dataframe tbody tr th {\n",
       "        vertical-align: top;\n",
       "    }\n",
       "\n",
       "    .dataframe thead th {\n",
       "        text-align: right;\n",
       "    }\n",
       "</style>\n",
       "<table border=\"1\" class=\"dataframe\">\n",
       "  <thead>\n",
       "    <tr style=\"text-align: right;\">\n",
       "      <th></th>\n",
       "      <th>contract_id</th>\n",
       "      <th>Churning</th>\n",
       "      <th>elect_cons_at_12m</th>\n",
       "      <th>gas_cons_at_12m</th>\n",
       "      <th>elect_cons_last_month</th>\n",
       "      <th>fcst_consumption_elect_12m</th>\n",
       "      <th>fcst_consumption_elect_cal_year</th>\n",
       "      <th>fcst_current_discount</th>\n",
       "      <th>fcst_bill_meter_rent_12m</th>\n",
       "      <th>fcst_price_period_1</th>\n",
       "      <th>fcst_price_period_2</th>\n",
       "      <th>fcst_price_power_period_1</th>\n",
       "      <th>client_got_gas</th>\n",
       "      <th>current_paid_consumption</th>\n",
       "      <th>gross_margin_power_elect</th>\n",
       "      <th>net_margin_power_elect</th>\n",
       "      <th>number_active_products</th>\n",
       "      <th>total_net_margin</th>\n",
       "      <th>customer_antiquity_in_years</th>\n",
       "      <th>subscribed_power</th>\n",
       "      <th>Contract_length_(days)</th>\n",
       "      <th>AVG_price_energy</th>\n",
       "      <th>AVG_price_power</th>\n",
       "      <th>code_elect_campaign_first_subs_kamkkxfxxuwbdslkwifmmcsiusiuosws</th>\n",
       "      <th>code_elect_campaign_first_subs_ldkssxwpmemidmecebumciepifcamkci</th>\n",
       "      <th>code_elect_campaign_first_subs_lxidpiddsbxsbosboudacockeimpuepw</th>\n",
       "      <th>code_elect_campaign_first_subs_usapbepcfoloekilkwsdiboslwaxobdp</th>\n",
       "    </tr>\n",
       "  </thead>\n",
       "  <tbody>\n",
       "    <tr>\n",
       "      <th>0</th>\n",
       "      <td>6975aab29f35173b43eae4f595b747c7</td>\n",
       "      <td>0.0</td>\n",
       "      <td>0.008356</td>\n",
       "      <td>0.004834</td>\n",
       "      <td>0.019825</td>\n",
       "      <td>0.144312</td>\n",
       "      <td>0.329626</td>\n",
       "      <td>0.0</td>\n",
       "      <td>0.142038</td>\n",
       "      <td>0.418319</td>\n",
       "      <td>0.501401</td>\n",
       "      <td>0.683750</td>\n",
       "      <td>1.0</td>\n",
       "      <td>0.376946</td>\n",
       "      <td>0.605412</td>\n",
       "      <td>0.641321</td>\n",
       "      <td>0.064516</td>\n",
       "      <td>0.147081</td>\n",
       "      <td>0.333333</td>\n",
       "      <td>0.032565</td>\n",
       "      <td>0.394245</td>\n",
       "      <td>0.690982</td>\n",
       "      <td>0.771816</td>\n",
       "      <td>1</td>\n",
       "      <td>0</td>\n",
       "      <td>0</td>\n",
       "      <td>0</td>\n",
       "    </tr>\n",
       "    <tr>\n",
       "      <th>1</th>\n",
       "      <td>8073016b742f47cf4c76cc41dc410122</td>\n",
       "      <td>1.0</td>\n",
       "      <td>0.007889</td>\n",
       "      <td>0.000730</td>\n",
       "      <td>0.019854</td>\n",
       "      <td>0.141866</td>\n",
       "      <td>0.330155</td>\n",
       "      <td>0.0</td>\n",
       "      <td>0.091522</td>\n",
       "      <td>0.525761</td>\n",
       "      <td>0.000000</td>\n",
       "      <td>0.779419</td>\n",
       "      <td>0.0</td>\n",
       "      <td>0.378605</td>\n",
       "      <td>0.611167</td>\n",
       "      <td>0.646552</td>\n",
       "      <td>0.000000</td>\n",
       "      <td>0.145726</td>\n",
       "      <td>0.200000</td>\n",
       "      <td>0.023046</td>\n",
       "      <td>0.262950</td>\n",
       "      <td>0.329020</td>\n",
       "      <td>0.457869</td>\n",
       "      <td>0</td>\n",
       "      <td>0</td>\n",
       "      <td>1</td>\n",
       "      <td>0</td>\n",
       "    </tr>\n",
       "    <tr>\n",
       "      <th>2</th>\n",
       "      <td>227c0e6b15256a1d3d3460e15c24ba60</td>\n",
       "      <td>0.0</td>\n",
       "      <td>0.008692</td>\n",
       "      <td>0.013361</td>\n",
       "      <td>0.020180</td>\n",
       "      <td>0.154595</td>\n",
       "      <td>0.335928</td>\n",
       "      <td>0.6</td>\n",
       "      <td>0.140881</td>\n",
       "      <td>0.591087</td>\n",
       "      <td>0.695681</td>\n",
       "      <td>0.692119</td>\n",
       "      <td>1.0</td>\n",
       "      <td>0.386750</td>\n",
       "      <td>0.636517</td>\n",
       "      <td>0.669595</td>\n",
       "      <td>0.064516</td>\n",
       "      <td>0.148481</td>\n",
       "      <td>0.333333</td>\n",
       "      <td>0.032565</td>\n",
       "      <td>0.352878</td>\n",
       "      <td>0.845821</td>\n",
       "      <td>0.778824</td>\n",
       "      <td>1</td>\n",
       "      <td>0</td>\n",
       "      <td>0</td>\n",
       "      <td>0</td>\n",
       "    </tr>\n",
       "  </tbody>\n",
       "</table>\n",
       "</div>"
      ],
      "text/plain": [
       "                        contract_id  Churning  elect_cons_at_12m  \\\n",
       "0  6975aab29f35173b43eae4f595b747c7       0.0           0.008356   \n",
       "1  8073016b742f47cf4c76cc41dc410122       1.0           0.007889   \n",
       "2  227c0e6b15256a1d3d3460e15c24ba60       0.0           0.008692   \n",
       "\n",
       "   gas_cons_at_12m  elect_cons_last_month  fcst_consumption_elect_12m  \\\n",
       "0         0.004834               0.019825                    0.144312   \n",
       "1         0.000730               0.019854                    0.141866   \n",
       "2         0.013361               0.020180                    0.154595   \n",
       "\n",
       "   fcst_consumption_elect_cal_year  fcst_current_discount  \\\n",
       "0                         0.329626                    0.0   \n",
       "1                         0.330155                    0.0   \n",
       "2                         0.335928                    0.6   \n",
       "\n",
       "   fcst_bill_meter_rent_12m  fcst_price_period_1  fcst_price_period_2  \\\n",
       "0                  0.142038             0.418319             0.501401   \n",
       "1                  0.091522             0.525761             0.000000   \n",
       "2                  0.140881             0.591087             0.695681   \n",
       "\n",
       "   fcst_price_power_period_1  client_got_gas  current_paid_consumption  \\\n",
       "0                   0.683750             1.0                  0.376946   \n",
       "1                   0.779419             0.0                  0.378605   \n",
       "2                   0.692119             1.0                  0.386750   \n",
       "\n",
       "   gross_margin_power_elect  net_margin_power_elect  number_active_products  \\\n",
       "0                  0.605412                0.641321                0.064516   \n",
       "1                  0.611167                0.646552                0.000000   \n",
       "2                  0.636517                0.669595                0.064516   \n",
       "\n",
       "   total_net_margin  customer_antiquity_in_years  subscribed_power  \\\n",
       "0          0.147081                     0.333333          0.032565   \n",
       "1          0.145726                     0.200000          0.023046   \n",
       "2          0.148481                     0.333333          0.032565   \n",
       "\n",
       "   Contract_length_(days)  AVG_price_energy  AVG_price_power  \\\n",
       "0                0.394245          0.690982         0.771816   \n",
       "1                0.262950          0.329020         0.457869   \n",
       "2                0.352878          0.845821         0.778824   \n",
       "\n",
       "   code_elect_campaign_first_subs_kamkkxfxxuwbdslkwifmmcsiusiuosws  \\\n",
       "0                                                  1                 \n",
       "1                                                  0                 \n",
       "2                                                  1                 \n",
       "\n",
       "   code_elect_campaign_first_subs_ldkssxwpmemidmecebumciepifcamkci  \\\n",
       "0                                                  0                 \n",
       "1                                                  0                 \n",
       "2                                                  0                 \n",
       "\n",
       "   code_elect_campaign_first_subs_lxidpiddsbxsbosboudacockeimpuepw  \\\n",
       "0                                                  0                 \n",
       "1                                                  1                 \n",
       "2                                                  0                 \n",
       "\n",
       "   code_elect_campaign_first_subs_usapbepcfoloekilkwsdiboslwaxobdp  \n",
       "0                                                  0                \n",
       "1                                                  0                \n",
       "2                                                  0                "
      ]
     },
     "execution_count": 8,
     "metadata": {},
     "output_type": "execute_result"
    }
   ],
   "source": [
    "TrainingData.head(3)"
   ]
  },
  {
   "cell_type": "code",
   "execution_count": 9,
   "metadata": {},
   "outputs": [
    {
     "name": "stdout",
     "output_type": "stream",
     "text": [
      "Number of customers who churned 1544\n",
      "Number of customers who did not churn 14323\n"
     ]
    }
   ],
   "source": [
    "#Check ratio between Churn and No_Churn\n",
    "print('Number of customers who churned', len(TrainingData[(TrainingData['Churning']==1)]))\n",
    "print('Number of customers who did not churn', len(TrainingData[(TrainingData['Churning']==0)]))"
   ]
  },
  {
   "cell_type": "code",
   "execution_count": 10,
   "metadata": {},
   "outputs": [
    {
     "data": {
      "text/plain": [
       "(15867, 27)"
      ]
     },
     "execution_count": 10,
     "metadata": {},
     "output_type": "execute_result"
    }
   ],
   "source": [
    "TrainingData.shape"
   ]
  },
  {
   "cell_type": "code",
   "execution_count": 11,
   "metadata": {
    "collapsed": true
   },
   "outputs": [],
   "source": [
    "#DownSample = TrainingData[TrainingData['Churning']==0].sample(n=2000)\n",
    "#Churning = TrainingData[(TrainingData['Churning']==1)]"
   ]
  },
  {
   "cell_type": "code",
   "execution_count": 12,
   "metadata": {
    "collapsed": true
   },
   "outputs": [],
   "source": [
    "#TrainingDataBal = pd.concat([DownSample, Churning]).sample(frac=1)\n",
    "#TrainingDataBal"
   ]
  },
  {
   "cell_type": "markdown",
   "metadata": {},
   "source": [
    "### Preparing for models"
   ]
  },
  {
   "cell_type": "code",
   "execution_count": 13,
   "metadata": {
    "collapsed": true
   },
   "outputs": [],
   "source": [
    "#Create Feature variable X and Target variable y\n",
    "X = TrainingData.drop(['Churning','contract_id'], axis = 1)\n",
    "y = TrainingData['Churning']"
   ]
  },
  {
   "cell_type": "code",
   "execution_count": 14,
   "metadata": {
    "collapsed": true
   },
   "outputs": [],
   "source": [
    "#Split the data into training set (70%) and test set (30%)\n",
    "from sklearn.model_selection import train_test_split\n",
    "X_train, X_test, y_train, y_test = train_test_split(X, y, test_size = 0.30, random_state = 50)"
   ]
  },
  {
   "cell_type": "code",
   "execution_count": 15,
   "metadata": {},
   "outputs": [
    {
     "data": {
      "text/plain": [
       "(11106, 25)"
      ]
     },
     "execution_count": 15,
     "metadata": {},
     "output_type": "execute_result"
    }
   ],
   "source": [
    "X_train.shape"
   ]
  },
  {
   "cell_type": "code",
   "execution_count": 16,
   "metadata": {},
   "outputs": [
    {
     "data": {
      "text/plain": [
       "(4761,)"
      ]
     },
     "execution_count": 16,
     "metadata": {},
     "output_type": "execute_result"
    }
   ],
   "source": [
    "y_test.shape"
   ]
  },
  {
   "cell_type": "markdown",
   "metadata": {},
   "source": [
    "### Train different models"
   ]
  },
  {
   "cell_type": "code",
   "execution_count": 17,
   "metadata": {
    "collapsed": true
   },
   "outputs": [],
   "source": [
    "# Machine Learning classification model libraries\n",
    "from sklearn.linear_model import LogisticRegression\n",
    "from sklearn.neighbors import KNeighborsClassifier\n",
    "from sklearn.svm import SVC\n",
    "from sklearn.tree import DecisionTreeClassifier\n",
    "from sklearn.ensemble import RandomForestClassifier\n",
    "from sklearn import metrics\n",
    "from sklearn.metrics import roc_auc_score\n",
    "from sklearn.metrics import roc_curve\n",
    "from sklearn.metrics import confusion_matrix"
   ]
  },
  {
   "cell_type": "code",
   "execution_count": 18,
   "metadata": {},
   "outputs": [
    {
     "data": {
      "text/plain": [
       "array([[4302,    0],\n",
       "       [ 459,    0]], dtype=int64)"
      ]
     },
     "execution_count": 18,
     "metadata": {},
     "output_type": "execute_result"
    }
   ],
   "source": [
    "#Fit logistic Regression Model\n",
    "logmodel = LogisticRegression(max_iter=1000)\n",
    "logmodel.fit(X_train,y_train)\n",
    "\n",
    "#Predict the value for new, unseen data\n",
    "log_pred = logmodel.predict(X_test)\n",
    "log_proba = logmodel.predict_proba(X_test)[:,1]\n",
    "\n",
    "# Find Accuracy using accuracy_score method\n",
    "logmodel_accuracy = round(metrics.accuracy_score(y_test, log_pred) * 100, 2)\n",
    "Log_ROC_auc = roc_auc_score(y_test, log_proba)\n",
    "fpr_log, tpr_log, threshold_log = roc_curve(y_test,log_proba)\n",
    "\n",
    "#Brier Score\n",
    "Brier_log = pow((log_proba-y_test),2).sum()/len(y_test)\n",
    "\n",
    "# Show confusion matrix\n",
    "conf_mat_logmodel = confusion_matrix(y_test,log_pred)\n",
    "conf_mat_logmodel"
   ]
  },
  {
   "cell_type": "code",
   "execution_count": 19,
   "metadata": {},
   "outputs": [
    {
     "data": {
      "text/plain": [
       "array([[4302,    0],\n",
       "       [ 459,    0]], dtype=int64)"
      ]
     },
     "execution_count": 19,
     "metadata": {},
     "output_type": "execute_result"
    }
   ],
   "source": [
    "#Fit Support Vector Machine Model\n",
    "svcmodel = SVC(kernel='linear', probability=True)\n",
    "svcmodel.fit(X_train,y_train)\n",
    "\n",
    "#Predict the value for new, unseen data\n",
    "svc_pred = svcmodel.predict(X_test)\n",
    "svc_proba = svcmodel.predict_proba(X_test)[:,1]\n",
    "\n",
    "# Find Accuracy using accuracy_score method\n",
    "svc_accuracy = round(metrics.accuracy_score(y_test, svc_pred) * 100, 2)\n",
    "svc_ROC_auc = roc_auc_score(y_test, svc_proba)\n",
    "fpr_svc, tpr_svc, threshold_svg = roc_curve(y_test,svc_proba)\n",
    "\n",
    "#Brier Score\n",
    "Brier_svc = pow((svc_proba-y_test),2).sum()/len(y_test)\n",
    "\n",
    "# Show confusion matrix\n",
    "conf_mat_svcmodel = confusion_matrix(y_test,svc_pred)\n",
    "conf_mat_svcmodel"
   ]
  },
  {
   "cell_type": "code",
   "execution_count": 20,
   "metadata": {},
   "outputs": [
    {
     "data": {
      "text/plain": [
       "array([[4250,   52],\n",
       "       [ 431,   28]], dtype=int64)"
      ]
     },
     "execution_count": 20,
     "metadata": {},
     "output_type": "execute_result"
    }
   ],
   "source": [
    "#Fit K-Nearest Neighbor Model\n",
    "from sklearn.neighbors import KNeighborsClassifier\n",
    "knnmodel = KNeighborsClassifier(n_neighbors=5, metric='minkowski', p=2) #p=2 represents Euclidean distance, p=1 represents Manhattan Distance\n",
    "knnmodel.fit(X_train, y_train) \n",
    "  \n",
    "#Predict the value for new, unseen data\n",
    "knn_pred = knnmodel.predict(X_test)\n",
    "knn_proba = knnmodel.predict_proba(X_test)[:,1]\n",
    "\n",
    "# Find Accuracy using accuracy_score method\n",
    "knn_accuracy = round(metrics.accuracy_score(y_test, knn_pred) * 100, 2)\n",
    "knn_ROC_auc = roc_auc_score(y_test, knn_proba)\n",
    "fpr_knn, tpr_knn, threshold_knn = roc_curve(y_test,knn_proba)\n",
    "\n",
    "#Brier Score\n",
    "Brier_knn = pow((knn_proba-y_test),2).sum()/len(y_test)\n",
    "\n",
    "# Show confusion matrix\n",
    "conf_mat_knnmodel = confusion_matrix(y_test,knn_pred)\n",
    "conf_mat_knnmodel"
   ]
  },
  {
   "cell_type": "code",
   "execution_count": 21,
   "metadata": {},
   "outputs": [
    {
     "data": {
      "text/plain": [
       "array([[3880,  422],\n",
       "       [ 359,  100]], dtype=int64)"
      ]
     },
     "execution_count": 21,
     "metadata": {},
     "output_type": "execute_result"
    }
   ],
   "source": [
    "#Fit Decision Tree Classification Model\n",
    "from sklearn.tree import DecisionTreeClassifier\n",
    "dtmodel = DecisionTreeClassifier(criterion = \"gini\")\n",
    "dtmodel.fit(X_train, y_train) \n",
    "  \n",
    "#Predict the value for new, unseen data\n",
    "dt_pred = dtmodel.predict(X_test)\n",
    "dt_proba = dtmodel.predict_proba(X_test)[:,1]\n",
    "\n",
    "# Find Accuracy using accuracy_score method\n",
    "dt_accuracy = round(metrics.accuracy_score(y_test, dt_pred) * 100, 2)\n",
    "dt_ROC_auc = roc_auc_score(y_test, dt_proba)\n",
    "fpr_dt, tpr_dt, threshold_dt = roc_curve(y_test,dt_proba)\n",
    "\n",
    "#Brier Score\n",
    "Brier_dt = pow((dt_proba-y_test),2).sum()/len(y_test)\n",
    "\n",
    "# Show confusion matrix\n",
    "conf_mat_dtmodel = confusion_matrix(y_test,dt_pred)\n",
    "conf_mat_dtmodel"
   ]
  },
  {
   "cell_type": "code",
   "execution_count": 22,
   "metadata": {},
   "outputs": [
    {
     "data": {
      "text/plain": [
       "array([[4300,    2],\n",
       "       [ 434,   25]], dtype=int64)"
      ]
     },
     "execution_count": 22,
     "metadata": {},
     "output_type": "execute_result"
    }
   ],
   "source": [
    "#Fit Random Forest Classification Model\n",
    "from sklearn.ensemble import RandomForestClassifier\n",
    "rfmodel = RandomForestClassifier(n_estimators = 500, criterion = 'entropy')\n",
    "rfmodel.fit(X_train, y_train) \n",
    "  \n",
    "#Predict the value for new, unseen data\n",
    "rf_pred = rfmodel.predict(X_test)\n",
    "rf_proba = rfmodel.predict_proba(X_test)[:,1]\n",
    "\n",
    "# Find Accuracy using accuracy_score method\n",
    "rf_accuracy = round(metrics.accuracy_score(y_test, rf_pred) * 100, 2)\n",
    "rf_ROC_auc = roc_auc_score(y_test, rf_proba)\n",
    "fpr_rf, tpr_rf, threshold_rf = roc_curve(y_test,rf_proba)\n",
    "\n",
    "#Brier Score\n",
    "Brier_rf = pow((rf_proba-y_test),2).sum()/len(y_test)\n",
    "\n",
    "# Show confusion matrix\n",
    "conf_mat_rfmodel = confusion_matrix(y_test,rf_pred)\n",
    "conf_mat_rfmodel"
   ]
  },
  {
   "cell_type": "markdown",
   "metadata": {},
   "source": [
    "### Models Comparison"
   ]
  },
  {
   "cell_type": "code",
   "execution_count": 23,
   "metadata": {},
   "outputs": [
    {
     "data": {
      "text/plain": [
       "<matplotlib.legend.Legend at 0x29d3ab08550>"
      ]
     },
     "execution_count": 23,
     "metadata": {},
     "output_type": "execute_result"
    },
    {
     "data": {
      "image/png": "[encoded data removed]",
      "text/plain": [
       "<Figure size 504x576 with 1 Axes>"
      ]
     },
     "metadata": {},
     "output_type": "display_data"
    }
   ],
   "source": [
    "plt.figure(figsize=(7,8))\n",
    "plt.plot(fpr_log,tpr_log,label='Logit Model (area = %0.2f)'%Log_ROC_auc)\n",
    "plt.plot(fpr_svc,tpr_svc,label='SVC Model (area = %0.2f)'%svc_ROC_auc)\n",
    "plt.plot(fpr_knn,tpr_knn,label='KNN Model (area = %0.2f)'%knn_ROC_auc)\n",
    "plt.plot(fpr_dt,tpr_dt,label='DT Model (area = %0.2f)'%dt_ROC_auc)\n",
    "plt.plot(fpr_rf,tpr_rf,label='RF Model (area = %0.2f)'%rf_ROC_auc)\n",
    "plt.plot([0,1],[0,1],'k--')\n",
    "plt.xlim([0.0,1.0])\n",
    "plt.ylim([0.0,1.0])\n",
    "plt.xlabel('False Positive Rate (1 - Specificity)')\n",
    "plt.ylabel('True Positive Rate (Sensitivity)')\n",
    "plt.title('ROC curves', fontsize=14)\n",
    "plt.legend()"
   ]
  },
  {
   "cell_type": "code",
   "execution_count": 24,
   "metadata": {},
   "outputs": [
    {
     "data": {
      "text/html": [
       "<div>\n",
       "<style scoped>\n",
       "    .dataframe tbody tr th:only-of-type {\n",
       "        vertical-align: middle;\n",
       "    }\n",
       "\n",
       "    .dataframe tbody tr th {\n",
       "        vertical-align: top;\n",
       "    }\n",
       "\n",
       "    .dataframe thead th {\n",
       "        text-align: right;\n",
       "    }\n",
       "</style>\n",
       "<table border=\"1\" class=\"dataframe\">\n",
       "  <thead>\n",
       "    <tr style=\"text-align: right;\">\n",
       "      <th></th>\n",
       "      <th>AUC Score</th>\n",
       "      <th>Model</th>\n",
       "      <th>Brier Score</th>\n",
       "    </tr>\n",
       "  </thead>\n",
       "  <tbody>\n",
       "    <tr>\n",
       "      <th>0</th>\n",
       "      <td>0.67</td>\n",
       "      <td>Random Forest</td>\n",
       "      <td>0.081</td>\n",
       "    </tr>\n",
       "    <tr>\n",
       "      <th>1</th>\n",
       "      <td>0.64</td>\n",
       "      <td>Logistic Regression</td>\n",
       "      <td>0.085</td>\n",
       "    </tr>\n",
       "    <tr>\n",
       "      <th>2</th>\n",
       "      <td>0.59</td>\n",
       "      <td>Support Vector Machine</td>\n",
       "      <td>0.087</td>\n",
       "    </tr>\n",
       "    <tr>\n",
       "      <th>3</th>\n",
       "      <td>0.57</td>\n",
       "      <td>K-Nearest Neighbor</td>\n",
       "      <td>0.097</td>\n",
       "    </tr>\n",
       "    <tr>\n",
       "      <th>4</th>\n",
       "      <td>0.56</td>\n",
       "      <td>Decision Tree</td>\n",
       "      <td>0.164</td>\n",
       "    </tr>\n",
       "  </tbody>\n",
       "</table>\n",
       "</div>"
      ],
      "text/plain": [
       "   AUC Score                   Model  Brier Score\n",
       "0       0.67           Random Forest        0.081\n",
       "1       0.64     Logistic Regression        0.085\n",
       "2       0.59  Support Vector Machine        0.087\n",
       "3       0.57      K-Nearest Neighbor        0.097\n",
       "4       0.56           Decision Tree        0.164"
      ]
     },
     "execution_count": 24,
     "metadata": {},
     "output_type": "execute_result"
    }
   ],
   "source": [
    "# Compare the models according to their AUC\n",
    "Model_Comparison = pd.DataFrame({\n",
    "    'Model': ['Logistic Regression', 'Support Vector Machine', 'K-Nearest Neighbor', \n",
    "              'Decision Tree', 'Random Forest'],\n",
    "    'AUC Score': [round(Log_ROC_auc,2), round(svc_ROC_auc,2), round(knn_ROC_auc,2), \n",
    "              round(dt_ROC_auc,2), round(rf_ROC_auc,2)],\n",
    "    'Brier Score': [round(Brier_log,3), round(Brier_svc,3), round(Brier_knn,3), \n",
    "              round(Brier_dt,3), round(Brier_rf,3)]})\n",
    "Model_Comparison_df = Model_Comparison.sort_values(by='AUC Score', ascending=False)\n",
    "Model_Comparison_df = Model_Comparison_df.set_index('AUC Score')\n",
    "Model_Comparison_df.reset_index()"
   ]
  },
  {
   "cell_type": "code",
   "execution_count": 25,
   "metadata": {
    "collapsed": true
   },
   "outputs": [],
   "source": [
    "'''# Compare Several models according to their Accuracies\n",
    "Model_Comparison = pd.DataFrame({\n",
    "    'Model': ['Logistic Regression', 'Support Vector Machine', 'K-Nearest Neighbor', \n",
    "              'Decision Tree', 'Random Forest'],\n",
    "    'Score': [logmodel_accuracy, svc_accuracy, knn_accuracy, \n",
    "              dt_accuracy, rf_accuracy]})\n",
    "Model_Comparison_df = Model_Comparison.sort_values(by='Score', ascending=False)\n",
    "Model_Comparison_df = Model_Comparison_df.set_index('Score')\n",
    "Model_Comparison_df.reset_index()''';"
   ]
  },
  {
   "cell_type": "markdown",
   "metadata": {},
   "source": [
    "## Using The Random Forest Model"
   ]
  },
  {
   "cell_type": "code",
   "execution_count": 26,
   "metadata": {},
   "outputs": [
    {
     "name": "stdout",
     "output_type": "stream",
     "text": [
      "[0.]\n",
      "[[0.918 0.082]]\n"
     ]
    }
   ],
   "source": [
    "print(rfmodel.predict(X_test.iloc[[1]]))\n",
    "print(rfmodel.predict_proba(X_test.iloc[[1]]))"
   ]
  },
  {
   "cell_type": "code",
   "execution_count": 27,
   "metadata": {},
   "outputs": [
    {
     "data": {
      "text/plain": [
       "array([0.202, 0.082, 0.084, ..., 0.286, 0.072, 0.21 ])"
      ]
     },
     "execution_count": 27,
     "metadata": {},
     "output_type": "execute_result"
    }
   ],
   "source": [
    "# Array of the Churning probability (named also rf_proba)\n",
    "rfmodel.predict_proba(X_test)[:,1]"
   ]
  },
  {
   "cell_type": "code",
   "execution_count": 28,
   "metadata": {},
   "outputs": [
    {
     "data": {
      "text/plain": [
       "Text(0, 0.5, 'Frequency')"
      ]
     },
     "execution_count": 28,
     "metadata": {},
     "output_type": "execute_result"
    },
    {
     "data": {
      "image/png": "[encoded data removed]",
      "text/plain": [
       "<Figure size 432x288 with 1 Axes>"
      ]
     },
     "metadata": {},
     "output_type": "display_data"
    }
   ],
   "source": [
    "#Showing the data inbalance\n",
    "plt.hist(rf_proba, bins=20)\n",
    "plt.xlim(0,1)\n",
    "plt.title('Predicted probabilities')\n",
    "plt.xlabel('Predicted probability of churning')\n",
    "plt.ylabel('Frequency')"
   ]
  },
  {
   "cell_type": "code",
   "execution_count": 29,
   "metadata": {
    "collapsed": true
   },
   "outputs": [],
   "source": [
    "#Function that takes a probability threshold and calculates Sensitivity and Specificity \n",
    "def find_threshold(threshold):\n",
    "    print('Sensitivity: ', tpr_rf[threshold_rf > threshold][-1])\n",
    "    print('Specificity: ', 1- fpr_rf[threshold_rf > threshold][-1])"
   ]
  },
  {
   "cell_type": "code",
   "execution_count": 32,
   "metadata": {},
   "outputs": [
    {
     "name": "stdout",
     "output_type": "stream",
     "text": [
      "Sensitivity:  0.681917211328976\n",
      "Specificity:  0.5455602045560204\n"
     ]
    }
   ],
   "source": [
    "find_threshold(0.08)"
   ]
  },
  {
   "cell_type": "code",
   "execution_count": 49,
   "metadata": {},
   "outputs": [
    {
     "data": {
      "text/plain": [
       "array([1., 1., 1., ..., 1., 0., 1.])"
      ]
     },
     "execution_count": 49,
     "metadata": {},
     "output_type": "execute_result"
    }
   ],
   "source": [
    "#Assign the new prediction values based on the new threshold\n",
    "from sklearn.preprocessing import binarize\n",
    "rf_pred_class = binarize(rf_proba.reshape(-1,1), 0.08)\n",
    "rf_pred_class = rf_pred_class.flatten()\n",
    "rf_pred_class"
   ]
  },
  {
   "cell_type": "code",
   "execution_count": 35,
   "metadata": {},
   "outputs": [
    {
     "data": {
      "text/plain": [
       "array([0.202, 0.082, 0.084, ..., 0.286, 0.072, 0.21 ])"
      ]
     },
     "execution_count": 35,
     "metadata": {},
     "output_type": "execute_result"
    }
   ],
   "source": [
    "rf_proba"
   ]
  },
  {
   "cell_type": "code",
   "execution_count": 36,
   "metadata": {},
   "outputs": [
    {
     "data": {
      "text/plain": [
       "4761"
      ]
     },
     "execution_count": 36,
     "metadata": {},
     "output_type": "execute_result"
    }
   ],
   "source": [
    "len(rf_pred_class)"
   ]
  },
  {
   "cell_type": "code",
   "execution_count": 37,
   "metadata": {},
   "outputs": [
    {
     "name": "stdout",
     "output_type": "stream",
     "text": [
      "Predicted Churn 2268\n",
      "Predicted No_Churn 2493\n"
     ]
    }
   ],
   "source": [
    "print('Predicted Churn',len(rf_pred_class[rf_pred_class==1]))\n",
    "print('Predicted No_Churn',len(rf_pred_class[rf_pred_class==0]))"
   ]
  },
  {
   "cell_type": "code",
   "execution_count": 38,
   "metadata": {},
   "outputs": [
    {
     "name": "stdout",
     "output_type": "stream",
     "text": [
      "Actual Churn 459\n",
      "Actual No_Churn 4302\n"
     ]
    },
    {
     "data": {
      "text/plain": [
       "4761"
      ]
     },
     "execution_count": 38,
     "metadata": {},
     "output_type": "execute_result"
    }
   ],
   "source": [
    "print('Actual Churn',len(y_test[y_test==1]))\n",
    "print('Actual No_Churn',len(y_test[y_test==0]))\n",
    "len(y_test)"
   ]
  },
  {
   "cell_type": "code",
   "execution_count": 39,
   "metadata": {},
   "outputs": [
    {
     "data": {
      "text/plain": [
       "array([[2347, 1955],\n",
       "       [ 146,  313]], dtype=int64)"
      ]
     },
     "execution_count": 39,
     "metadata": {},
     "output_type": "execute_result"
    }
   ],
   "source": [
    "# Show confusion matrix again\n",
    "conf_mat_rfmodel = confusion_matrix(y_test,rf_pred_class)\n",
    "conf_mat_rfmodel"
   ]
  },
  {
   "cell_type": "markdown",
   "metadata": {},
   "source": [
    "### Making the final output table"
   ]
  },
  {
   "cell_type": "code",
   "execution_count": 40,
   "metadata": {
    "collapsed": true
   },
   "outputs": [],
   "source": [
    "# Predict the probability of Churn of each customer\n",
    "TrainingData['Probability_of_Churn'] = rfmodel.predict_proba(TrainingData[X_test.columns])[:,1]"
   ]
  },
  {
   "cell_type": "code",
   "execution_count": 50,
   "metadata": {},
   "outputs": [],
   "source": [
    "# Calculate Churning prediction of each customer\n",
    "TrainingData['Predicted_Churn'] = binarize(rfmodel.predict_proba(TrainingData[X_test.columns])[:,1].reshape(-1,1),0.08)"
   ]
  },
  {
   "cell_type": "code",
   "execution_count": 43,
   "metadata": {},
   "outputs": [
    {
     "data": {
      "text/plain": [
       "4092"
      ]
     },
     "execution_count": 43,
     "metadata": {},
     "output_type": "execute_result"
    }
   ],
   "source": [
    "len(TrainingData[TrainingData['Predicted_Churn']==1])"
   ]
  },
  {
   "cell_type": "code",
   "execution_count": 44,
   "metadata": {
    "collapsed": true
   },
   "outputs": [],
   "source": [
    "# Create a Dataframe showcasing actutual churning, predicted churning and churning probability given by the model\n",
    "Churn_Probability = TrainingData[['contract_id','Churning','Predicted_Churn','Probability_of_Churn']]"
   ]
  },
  {
   "cell_type": "code",
   "execution_count": 45,
   "metadata": {
    "collapsed": true
   },
   "outputs": [],
   "source": [
    "#Take only the elements contained in the Test dataset\n",
    "Churn_ProbabilityTest= Churn_Probability[Churn_Probability.index.isin(X_test.index)]"
   ]
  },
  {
   "cell_type": "code",
   "execution_count": 46,
   "metadata": {},
   "outputs": [
    {
     "data": {
      "text/plain": [
       "2268"
      ]
     },
     "execution_count": 46,
     "metadata": {},
     "output_type": "execute_result"
    }
   ],
   "source": [
    "len(Churn_ProbabilityTest[Churn_ProbabilityTest['Predicted_Churn']==1])"
   ]
  },
  {
   "cell_type": "code",
   "execution_count": 47,
   "metadata": {},
   "outputs": [
    {
     "data": {
      "text/html": [
       "<div>\n",
       "<style scoped>\n",
       "    .dataframe tbody tr th:only-of-type {\n",
       "        vertical-align: middle;\n",
       "    }\n",
       "\n",
       "    .dataframe tbody tr th {\n",
       "        vertical-align: top;\n",
       "    }\n",
       "\n",
       "    .dataframe thead th {\n",
       "        text-align: right;\n",
       "    }\n",
       "</style>\n",
       "<table border=\"1\" class=\"dataframe\">\n",
       "  <thead>\n",
       "    <tr style=\"text-align: right;\">\n",
       "      <th></th>\n",
       "      <th>contract_id</th>\n",
       "      <th>Churning</th>\n",
       "      <th>Predicted_Churn</th>\n",
       "      <th>Probability_of_Churn</th>\n",
       "    </tr>\n",
       "  </thead>\n",
       "  <tbody>\n",
       "    <tr>\n",
       "      <th>9618</th>\n",
       "      <td>faf60d1008a80d7e557d762a3988860c</td>\n",
       "      <td>1.0</td>\n",
       "      <td>1.0</td>\n",
       "      <td>0.984</td>\n",
       "    </tr>\n",
       "    <tr>\n",
       "      <th>8621</th>\n",
       "      <td>9c48d7255877d234f7201b942999ac28</td>\n",
       "      <td>1.0</td>\n",
       "      <td>1.0</td>\n",
       "      <td>0.950</td>\n",
       "    </tr>\n",
       "    <tr>\n",
       "      <th>8657</th>\n",
       "      <td>dbdcb417fc2d324845d254695dd25b3d</td>\n",
       "      <td>1.0</td>\n",
       "      <td>1.0</td>\n",
       "      <td>0.930</td>\n",
       "    </tr>\n",
       "    <tr>\n",
       "      <th>4788</th>\n",
       "      <td>e12839ee323b1c82c15a1c729181d746</td>\n",
       "      <td>1.0</td>\n",
       "      <td>1.0</td>\n",
       "      <td>0.920</td>\n",
       "    </tr>\n",
       "    <tr>\n",
       "      <th>938</th>\n",
       "      <td>65cb91b93ad5b39b874e5defd8f96952</td>\n",
       "      <td>1.0</td>\n",
       "      <td>1.0</td>\n",
       "      <td>0.916</td>\n",
       "    </tr>\n",
       "    <tr>\n",
       "      <th>...</th>\n",
       "      <td>...</td>\n",
       "      <td>...</td>\n",
       "      <td>...</td>\n",
       "      <td>...</td>\n",
       "    </tr>\n",
       "    <tr>\n",
       "      <th>7242</th>\n",
       "      <td>63fb387cef7a1a73ed1b99f74e54c940</td>\n",
       "      <td>0.0</td>\n",
       "      <td>0.0</td>\n",
       "      <td>0.000</td>\n",
       "    </tr>\n",
       "    <tr>\n",
       "      <th>10072</th>\n",
       "      <td>d09137acfe2ba08fa9b7a561f21f31a0</td>\n",
       "      <td>0.0</td>\n",
       "      <td>0.0</td>\n",
       "      <td>0.000</td>\n",
       "    </tr>\n",
       "    <tr>\n",
       "      <th>10328</th>\n",
       "      <td>cd054e153c54aa6b480e15277f107db7</td>\n",
       "      <td>0.0</td>\n",
       "      <td>0.0</td>\n",
       "      <td>0.000</td>\n",
       "    </tr>\n",
       "    <tr>\n",
       "      <th>459</th>\n",
       "      <td>e0db64f578fee4a85ae8306359ce74ea</td>\n",
       "      <td>0.0</td>\n",
       "      <td>0.0</td>\n",
       "      <td>0.000</td>\n",
       "    </tr>\n",
       "    <tr>\n",
       "      <th>13686</th>\n",
       "      <td>834a8c9f51cd87de561cd11a6c5bdda5</td>\n",
       "      <td>0.0</td>\n",
       "      <td>0.0</td>\n",
       "      <td>0.000</td>\n",
       "    </tr>\n",
       "  </tbody>\n",
       "</table>\n",
       "<p>4761 rows × 4 columns</p>\n",
       "</div>"
      ],
      "text/plain": [
       "                            contract_id  Churning  Predicted_Churn  \\\n",
       "9618   faf60d1008a80d7e557d762a3988860c       1.0              1.0   \n",
       "8621   9c48d7255877d234f7201b942999ac28       1.0              1.0   \n",
       "8657   dbdcb417fc2d324845d254695dd25b3d       1.0              1.0   \n",
       "4788   e12839ee323b1c82c15a1c729181d746       1.0              1.0   \n",
       "938    65cb91b93ad5b39b874e5defd8f96952       1.0              1.0   \n",
       "...                                 ...       ...              ...   \n",
       "7242   63fb387cef7a1a73ed1b99f74e54c940       0.0              0.0   \n",
       "10072  d09137acfe2ba08fa9b7a561f21f31a0       0.0              0.0   \n",
       "10328  cd054e153c54aa6b480e15277f107db7       0.0              0.0   \n",
       "459    e0db64f578fee4a85ae8306359ce74ea       0.0              0.0   \n",
       "13686  834a8c9f51cd87de561cd11a6c5bdda5       0.0              0.0   \n",
       "\n",
       "       Probability_of_Churn  \n",
       "9618                  0.984  \n",
       "8621                  0.950  \n",
       "8657                  0.930  \n",
       "4788                  0.920  \n",
       "938                   0.916  \n",
       "...                     ...  \n",
       "7242                  0.000  \n",
       "10072                 0.000  \n",
       "10328                 0.000  \n",
       "459                   0.000  \n",
       "13686                 0.000  \n",
       "\n",
       "[4761 rows x 4 columns]"
      ]
     },
     "execution_count": 47,
     "metadata": {},
     "output_type": "execute_result"
    }
   ],
   "source": [
    "#Descending order of propensity to churn\n",
    "Churn_ProbabilityTest.sort_values(by='Probability_of_Churn', ascending=False)"
   ]
  }
 ],
 "metadata": {
  "kernelspec": {
   "display_name": "Python 3",
   "language": "python",
   "name": "python3"
  },
  "language_info": {
   "codemirror_mode": {
    "name": "ipython",
    "version": 3
   },
   "file_extension": ".py",
   "mimetype": "text/x-python",
   "name": "python",
   "nbconvert_exporter": "python",
   "pygments_lexer": "ipython3",
   "version": "3.6.3"
  }
 },
 "nbformat": 4,
 "nbformat_minor": 2
}
